{
 "cells": [
  {
   "cell_type": "code",
   "execution_count": 25,
   "id": "441ece91-41a0-491c-ac80-abc9e9032b66",
   "metadata": {},
   "outputs": [],
   "source": [
    "import pandas as pd "
   ]
  },
  {
   "cell_type": "code",
   "execution_count": 2,
   "id": "58df52a9-9c92-4be1-9114-ad45e6e43ada",
   "metadata": {},
   "outputs": [
    {
     "data": {
      "text/html": [
       "<div>\n",
       "<style scoped>\n",
       "    .dataframe tbody tr th:only-of-type {\n",
       "        vertical-align: middle;\n",
       "    }\n",
       "\n",
       "    .dataframe tbody tr th {\n",
       "        vertical-align: top;\n",
       "    }\n",
       "\n",
       "    .dataframe thead th {\n",
       "        text-align: right;\n",
       "    }\n",
       "</style>\n",
       "<table border=\"1\" class=\"dataframe\">\n",
       "  <thead>\n",
       "    <tr style=\"text-align: right;\">\n",
       "      <th></th>\n",
       "      <th>Date</th>\n",
       "      <th>Country</th>\n",
       "      <th>Confirmed</th>\n",
       "      <th>Deaths</th>\n",
       "      <th>Recovered</th>\n",
       "    </tr>\n",
       "  </thead>\n",
       "  <tbody>\n",
       "    <tr>\n",
       "      <th>0</th>\n",
       "      <td>2020-01-01</td>\n",
       "      <td>USA</td>\n",
       "      <td>9391</td>\n",
       "      <td>148</td>\n",
       "      <td>4101</td>\n",
       "    </tr>\n",
       "    <tr>\n",
       "      <th>1</th>\n",
       "      <td>2020-01-02</td>\n",
       "      <td>USA</td>\n",
       "      <td>9463</td>\n",
       "      <td>135</td>\n",
       "      <td>4136</td>\n",
       "    </tr>\n",
       "    <tr>\n",
       "      <th>2</th>\n",
       "      <td>2020-01-03</td>\n",
       "      <td>USA</td>\n",
       "      <td>9060</td>\n",
       "      <td>115</td>\n",
       "      <td>3682</td>\n",
       "    </tr>\n",
       "    <tr>\n",
       "      <th>3</th>\n",
       "      <td>2020-01-04</td>\n",
       "      <td>USA</td>\n",
       "      <td>8673</td>\n",
       "      <td>99</td>\n",
       "      <td>3886</td>\n",
       "    </tr>\n",
       "    <tr>\n",
       "      <th>4</th>\n",
       "      <td>2020-01-05</td>\n",
       "      <td>USA</td>\n",
       "      <td>9807</td>\n",
       "      <td>93</td>\n",
       "      <td>3490</td>\n",
       "    </tr>\n",
       "  </tbody>\n",
       "</table>\n",
       "</div>"
      ],
      "text/plain": [
       "         Date Country  Confirmed  Deaths  Recovered\n",
       "0  2020-01-01     USA       9391     148       4101\n",
       "1  2020-01-02     USA       9463     135       4136\n",
       "2  2020-01-03     USA       9060     115       3682\n",
       "3  2020-01-04     USA       8673      99       3886\n",
       "4  2020-01-05     USA       9807      93       3490"
      ]
     },
     "execution_count": 2,
     "metadata": {},
     "output_type": "execute_result"
    }
   ],
   "source": [
    "my_df=pd.read_csv(\"covid19_data.csv\")\n",
    "my_df.head()"
   ]
  },
  {
   "cell_type": "code",
   "execution_count": 3,
   "id": "14cc4ab4-b59d-40a1-af2a-0001fe88fb13",
   "metadata": {},
   "outputs": [
    {
     "data": {
      "text/plain": [
       "Index(['Date', 'Country', 'Confirmed', 'Deaths', 'Recovered'], dtype='object')"
      ]
     },
     "execution_count": 3,
     "metadata": {},
     "output_type": "execute_result"
    }
   ],
   "source": [
    "my_df.columns"
   ]
  },
  {
   "cell_type": "code",
   "execution_count": 4,
   "id": "e8de29e2-5a6f-41b3-9b59-a28213817020",
   "metadata": {},
   "outputs": [
    {
     "data": {
      "text/plain": [
       "RangeIndex(start=0, stop=1830, step=1)"
      ]
     },
     "execution_count": 4,
     "metadata": {},
     "output_type": "execute_result"
    }
   ],
   "source": [
    "my_df.index"
   ]
  },
  {
   "cell_type": "code",
   "execution_count": 5,
   "id": "2770c563-0a1e-4742-bbfe-9ddf572c1cc0",
   "metadata": {},
   "outputs": [
    {
     "data": {
      "text/plain": [
       "0       USA\n",
       "1       USA\n",
       "2       USA\n",
       "3       USA\n",
       "4       USA\n",
       "       ... \n",
       "1825     UK\n",
       "1826     UK\n",
       "1827     UK\n",
       "1828     UK\n",
       "1829     UK\n",
       "Name: Country, Length: 1830, dtype: object"
      ]
     },
     "execution_count": 5,
     "metadata": {},
     "output_type": "execute_result"
    }
   ],
   "source": [
    "my_df['Country']"
   ]
  },
  {
   "cell_type": "code",
   "execution_count": 8,
   "id": "827d6b9e-ba3f-43c4-84d5-286ea52db17f",
   "metadata": {},
   "outputs": [
    {
     "data": {
      "text/plain": [
       "0       USA\n",
       "1       USA\n",
       "2       USA\n",
       "3       USA\n",
       "4       USA\n",
       "       ... \n",
       "1825     UK\n",
       "1826     UK\n",
       "1827     UK\n",
       "1828     UK\n",
       "1829     UK\n",
       "Name: Country, Length: 1830, dtype: object"
      ]
     },
     "execution_count": 8,
     "metadata": {},
     "output_type": "execute_result"
    }
   ],
   "source": [
    "my_df.Country"
   ]
  },
  {
   "cell_type": "code",
   "execution_count": 9,
   "id": "eda143cf-7ca7-451b-9914-303d0025a42b",
   "metadata": {},
   "outputs": [
    {
     "data": {
      "text/html": [
       "<div>\n",
       "<style scoped>\n",
       "    .dataframe tbody tr th:only-of-type {\n",
       "        vertical-align: middle;\n",
       "    }\n",
       "\n",
       "    .dataframe tbody tr th {\n",
       "        vertical-align: top;\n",
       "    }\n",
       "\n",
       "    .dataframe thead th {\n",
       "        text-align: right;\n",
       "    }\n",
       "</style>\n",
       "<table border=\"1\" class=\"dataframe\">\n",
       "  <thead>\n",
       "    <tr style=\"text-align: right;\">\n",
       "      <th></th>\n",
       "      <th>Country</th>\n",
       "      <th>Recovered</th>\n",
       "    </tr>\n",
       "  </thead>\n",
       "  <tbody>\n",
       "    <tr>\n",
       "      <th>0</th>\n",
       "      <td>USA</td>\n",
       "      <td>4101</td>\n",
       "    </tr>\n",
       "    <tr>\n",
       "      <th>1</th>\n",
       "      <td>USA</td>\n",
       "      <td>4136</td>\n",
       "    </tr>\n",
       "    <tr>\n",
       "      <th>2</th>\n",
       "      <td>USA</td>\n",
       "      <td>3682</td>\n",
       "    </tr>\n",
       "    <tr>\n",
       "      <th>3</th>\n",
       "      <td>USA</td>\n",
       "      <td>3886</td>\n",
       "    </tr>\n",
       "    <tr>\n",
       "      <th>4</th>\n",
       "      <td>USA</td>\n",
       "      <td>3490</td>\n",
       "    </tr>\n",
       "    <tr>\n",
       "      <th>...</th>\n",
       "      <td>...</td>\n",
       "      <td>...</td>\n",
       "    </tr>\n",
       "    <tr>\n",
       "      <th>1825</th>\n",
       "      <td>UK</td>\n",
       "      <td>3975</td>\n",
       "    </tr>\n",
       "    <tr>\n",
       "      <th>1826</th>\n",
       "      <td>UK</td>\n",
       "      <td>3638</td>\n",
       "    </tr>\n",
       "    <tr>\n",
       "      <th>1827</th>\n",
       "      <td>UK</td>\n",
       "      <td>4066</td>\n",
       "    </tr>\n",
       "    <tr>\n",
       "      <th>1828</th>\n",
       "      <td>UK</td>\n",
       "      <td>4251</td>\n",
       "    </tr>\n",
       "    <tr>\n",
       "      <th>1829</th>\n",
       "      <td>UK</td>\n",
       "      <td>4188</td>\n",
       "    </tr>\n",
       "  </tbody>\n",
       "</table>\n",
       "<p>1830 rows × 2 columns</p>\n",
       "</div>"
      ],
      "text/plain": [
       "     Country  Recovered\n",
       "0        USA       4101\n",
       "1        USA       4136\n",
       "2        USA       3682\n",
       "3        USA       3886\n",
       "4        USA       3490\n",
       "...      ...        ...\n",
       "1825      UK       3975\n",
       "1826      UK       3638\n",
       "1827      UK       4066\n",
       "1828      UK       4251\n",
       "1829      UK       4188\n",
       "\n",
       "[1830 rows x 2 columns]"
      ]
     },
     "execution_count": 9,
     "metadata": {},
     "output_type": "execute_result"
    }
   ],
   "source": [
    "my_df[[\"Country\",\"Recovered\"]]"
   ]
  },
  {
   "cell_type": "code",
   "execution_count": 12,
   "id": "c4d8e1da-6e0b-4c76-85bf-844dac24abb4",
   "metadata": {},
   "outputs": [
    {
     "data": {
      "text/plain": [
       "0       USA\n",
       "1       USA\n",
       "2       USA\n",
       "3       USA\n",
       "4       USA\n",
       "       ... \n",
       "1825     UK\n",
       "1826     UK\n",
       "1827     UK\n",
       "1828     UK\n",
       "1829     UK\n",
       "Name: Country, Length: 1830, dtype: object"
      ]
     },
     "execution_count": 12,
     "metadata": {},
     "output_type": "execute_result"
    }
   ],
   "source": [
    "my_df[\"Country\"]"
   ]
  },
  {
   "cell_type": "code",
   "execution_count": 13,
   "id": "6fd6d13e-ee29-4ef6-b1d9-d5718a6c8480",
   "metadata": {},
   "outputs": [
    {
     "data": {
      "text/plain": [
       "0       USA\n",
       "1       USA\n",
       "2       USA\n",
       "3       USA\n",
       "4       USA\n",
       "       ... \n",
       "1825     UK\n",
       "1826     UK\n",
       "1827     UK\n",
       "1828     UK\n",
       "1829     UK\n",
       "Name: Country, Length: 1830, dtype: object"
      ]
     },
     "execution_count": 13,
     "metadata": {},
     "output_type": "execute_result"
    }
   ],
   "source": [
    "countries=my_df[\"Country\"]\n",
    "countries"
   ]
  },
  {
   "cell_type": "code",
   "execution_count": 14,
   "id": "cddaa2e0-6eaa-4ea0-b383-009e2a079b36",
   "metadata": {},
   "outputs": [
    {
     "data": {
      "text/plain": [
       "0       USA\n",
       "1       USA\n",
       "2       USA\n",
       "3       USA\n",
       "4       USA\n",
       "       ... \n",
       "1825     UK\n",
       "1826     UK\n",
       "1827     UK\n",
       "1828     UK\n",
       "1829     UK\n",
       "Name: Country, Length: 1830, dtype: object"
      ]
     },
     "execution_count": 14,
     "metadata": {},
     "output_type": "execute_result"
    }
   ],
   "source": [
    "countries=my_df[\"Country\"]\n",
    "countries"
   ]
  },
  {
   "cell_type": "code",
   "execution_count": 15,
   "id": "573470a5-dcc7-4398-8ca9-dd518773685b",
   "metadata": {},
   "outputs": [
    {
     "data": {
      "text/plain": [
       "'USA'"
      ]
     },
     "execution_count": 15,
     "metadata": {},
     "output_type": "execute_result"
    }
   ],
   "source": [
    "countries[0]"
   ]
  },
  {
   "cell_type": "code",
   "execution_count": 16,
   "id": "afec68d3-6f30-46d5-a214-236a7297ccf9",
   "metadata": {},
   "outputs": [
    {
     "data": {
      "text/plain": [
       "1    USA\n",
       "2    USA\n",
       "3    USA\n",
       "Name: Country, dtype: object"
      ]
     },
     "execution_count": 16,
     "metadata": {},
     "output_type": "execute_result"
    }
   ],
   "source": [
    "countries[1:4]"
   ]
  },
  {
   "cell_type": "code",
   "execution_count": 17,
   "id": "25d248af-5196-4390-a37a-f66c88362983",
   "metadata": {},
   "outputs": [
    {
     "data": {
      "text/plain": [
       "1    USA\n",
       "2    USA\n",
       "3    USA\n",
       "Name: Country, dtype: object"
      ]
     },
     "execution_count": 17,
     "metadata": {},
     "output_type": "execute_result"
    }
   ],
   "source": [
    "countries[[1,2,3]]"
   ]
  },
  {
   "cell_type": "code",
   "execution_count": 18,
   "id": "d3017888-bc94-4ff7-bafa-183144a228f0",
   "metadata": {},
   "outputs": [
    {
     "data": {
      "text/plain": [
       "'USA'"
      ]
     },
     "execution_count": 18,
     "metadata": {},
     "output_type": "execute_result"
    }
   ],
   "source": [
    "countries=my_df.loc[0,\"Country\"]\n",
    "countries"
   ]
  },
  {
   "cell_type": "code",
   "execution_count": 19,
   "id": "385e613e-28ab-4e54-9805-81ce0bdb9deb",
   "metadata": {},
   "outputs": [
    {
     "data": {
      "text/plain": [
       "Date         2020-01-01\n",
       "Country             USA\n",
       "Confirmed          9391\n",
       "Deaths              148\n",
       "Recovered          4101\n",
       "Name: 0, dtype: object"
      ]
     },
     "execution_count": 19,
     "metadata": {},
     "output_type": "execute_result"
    }
   ],
   "source": [
    "countries=my_df.loc[0,:]\n",
    "countries"
   ]
  },
  {
   "cell_type": "code",
   "execution_count": 21,
   "id": "efbab349-ae3f-4d48-b14a-f7253e4febef",
   "metadata": {},
   "outputs": [
    {
     "data": {
      "text/html": [
       "<div>\n",
       "<style scoped>\n",
       "    .dataframe tbody tr th:only-of-type {\n",
       "        vertical-align: middle;\n",
       "    }\n",
       "\n",
       "    .dataframe tbody tr th {\n",
       "        vertical-align: top;\n",
       "    }\n",
       "\n",
       "    .dataframe thead th {\n",
       "        text-align: right;\n",
       "    }\n",
       "</style>\n",
       "<table border=\"1\" class=\"dataframe\">\n",
       "  <thead>\n",
       "    <tr style=\"text-align: right;\">\n",
       "      <th></th>\n",
       "      <th>Country</th>\n",
       "      <th>Confirmed</th>\n",
       "      <th>Deaths</th>\n",
       "      <th>Recovered</th>\n",
       "    </tr>\n",
       "  </thead>\n",
       "  <tbody>\n",
       "    <tr>\n",
       "      <th>0</th>\n",
       "      <td>USA</td>\n",
       "      <td>9391</td>\n",
       "      <td>148</td>\n",
       "      <td>4101</td>\n",
       "    </tr>\n",
       "    <tr>\n",
       "      <th>1</th>\n",
       "      <td>USA</td>\n",
       "      <td>9463</td>\n",
       "      <td>135</td>\n",
       "      <td>4136</td>\n",
       "    </tr>\n",
       "    <tr>\n",
       "      <th>2</th>\n",
       "      <td>USA</td>\n",
       "      <td>9060</td>\n",
       "      <td>115</td>\n",
       "      <td>3682</td>\n",
       "    </tr>\n",
       "  </tbody>\n",
       "</table>\n",
       "</div>"
      ],
      "text/plain": [
       "  Country  Confirmed  Deaths  Recovered\n",
       "0     USA       9391     148       4101\n",
       "1     USA       9463     135       4136\n",
       "2     USA       9060     115       3682"
      ]
     },
     "execution_count": 21,
     "metadata": {},
     "output_type": "execute_result"
    }
   ],
   "source": [
    "countries=my_df.loc[0:2,\"Country\":\"Recovered\"]\n",
    "countries"
   ]
  },
  {
   "cell_type": "code",
   "execution_count": 23,
   "id": "5d248cd1-fb6b-4188-ac46-fc0462a87b72",
   "metadata": {},
   "outputs": [
    {
     "data": {
      "text/html": [
       "<div>\n",
       "<style scoped>\n",
       "    .dataframe tbody tr th:only-of-type {\n",
       "        vertical-align: middle;\n",
       "    }\n",
       "\n",
       "    .dataframe tbody tr th {\n",
       "        vertical-align: top;\n",
       "    }\n",
       "\n",
       "    .dataframe thead th {\n",
       "        text-align: right;\n",
       "    }\n",
       "</style>\n",
       "<table border=\"1\" class=\"dataframe\">\n",
       "  <thead>\n",
       "    <tr style=\"text-align: right;\">\n",
       "      <th></th>\n",
       "      <th>Country</th>\n",
       "      <th>Recovered</th>\n",
       "    </tr>\n",
       "  </thead>\n",
       "  <tbody>\n",
       "    <tr>\n",
       "      <th>0</th>\n",
       "      <td>USA</td>\n",
       "      <td>4101</td>\n",
       "    </tr>\n",
       "    <tr>\n",
       "      <th>2</th>\n",
       "      <td>USA</td>\n",
       "      <td>3682</td>\n",
       "    </tr>\n",
       "    <tr>\n",
       "      <th>3</th>\n",
       "      <td>USA</td>\n",
       "      <td>3886</td>\n",
       "    </tr>\n",
       "  </tbody>\n",
       "</table>\n",
       "</div>"
      ],
      "text/plain": [
       "  Country  Recovered\n",
       "0     USA       4101\n",
       "2     USA       3682\n",
       "3     USA       3886"
      ]
     },
     "execution_count": 23,
     "metadata": {},
     "output_type": "execute_result"
    }
   ],
   "source": [
    "countries=my_df.loc[[0,2,3],[\"Country\",\"Recovered\"]]\n",
    "countries"
   ]
  },
  {
   "cell_type": "code",
   "execution_count": 1,
   "id": "810cd07d-8ffa-43a0-a6c1-933ff0cf9c97",
   "metadata": {},
   "outputs": [],
   "source": [
    "import pandas as pd "
   ]
  },
  {
   "cell_type": "code",
   "execution_count": 2,
   "id": "00c10a2a-c4bb-4913-bb1e-37600b4cfdf1",
   "metadata": {},
   "outputs": [
    {
     "data": {
      "text/html": [
       "<div>\n",
       "<style scoped>\n",
       "    .dataframe tbody tr th:only-of-type {\n",
       "        vertical-align: middle;\n",
       "    }\n",
       "\n",
       "    .dataframe tbody tr th {\n",
       "        vertical-align: top;\n",
       "    }\n",
       "\n",
       "    .dataframe thead th {\n",
       "        text-align: right;\n",
       "    }\n",
       "</style>\n",
       "<table border=\"1\" class=\"dataframe\">\n",
       "  <thead>\n",
       "    <tr style=\"text-align: right;\">\n",
       "      <th></th>\n",
       "      <th>Date</th>\n",
       "      <th>Country</th>\n",
       "      <th>Confirmed</th>\n",
       "      <th>Deaths</th>\n",
       "      <th>Recovered</th>\n",
       "    </tr>\n",
       "  </thead>\n",
       "  <tbody>\n",
       "    <tr>\n",
       "      <th>0</th>\n",
       "      <td>2020-01-01</td>\n",
       "      <td>USA</td>\n",
       "      <td>9391</td>\n",
       "      <td>148</td>\n",
       "      <td>4101</td>\n",
       "    </tr>\n",
       "    <tr>\n",
       "      <th>1</th>\n",
       "      <td>2020-01-02</td>\n",
       "      <td>USA</td>\n",
       "      <td>9463</td>\n",
       "      <td>135</td>\n",
       "      <td>4136</td>\n",
       "    </tr>\n",
       "    <tr>\n",
       "      <th>2</th>\n",
       "      <td>2020-01-03</td>\n",
       "      <td>USA</td>\n",
       "      <td>9060</td>\n",
       "      <td>115</td>\n",
       "      <td>3682</td>\n",
       "    </tr>\n",
       "    <tr>\n",
       "      <th>3</th>\n",
       "      <td>2020-01-04</td>\n",
       "      <td>USA</td>\n",
       "      <td>8673</td>\n",
       "      <td>99</td>\n",
       "      <td>3886</td>\n",
       "    </tr>\n",
       "    <tr>\n",
       "      <th>4</th>\n",
       "      <td>2020-01-05</td>\n",
       "      <td>USA</td>\n",
       "      <td>9807</td>\n",
       "      <td>93</td>\n",
       "      <td>3490</td>\n",
       "    </tr>\n",
       "    <tr>\n",
       "      <th>...</th>\n",
       "      <td>...</td>\n",
       "      <td>...</td>\n",
       "      <td>...</td>\n",
       "      <td>...</td>\n",
       "      <td>...</td>\n",
       "    </tr>\n",
       "    <tr>\n",
       "      <th>1825</th>\n",
       "      <td>2020-12-27</td>\n",
       "      <td>UK</td>\n",
       "      <td>8532</td>\n",
       "      <td>388</td>\n",
       "      <td>3975</td>\n",
       "    </tr>\n",
       "    <tr>\n",
       "      <th>1826</th>\n",
       "      <td>2020-12-28</td>\n",
       "      <td>UK</td>\n",
       "      <td>8176</td>\n",
       "      <td>371</td>\n",
       "      <td>3638</td>\n",
       "    </tr>\n",
       "    <tr>\n",
       "      <th>1827</th>\n",
       "      <td>2020-12-29</td>\n",
       "      <td>UK</td>\n",
       "      <td>8891</td>\n",
       "      <td>398</td>\n",
       "      <td>4066</td>\n",
       "    </tr>\n",
       "    <tr>\n",
       "      <th>1828</th>\n",
       "      <td>2020-12-30</td>\n",
       "      <td>UK</td>\n",
       "      <td>8073</td>\n",
       "      <td>410</td>\n",
       "      <td>4251</td>\n",
       "    </tr>\n",
       "    <tr>\n",
       "      <th>1829</th>\n",
       "      <td>2020-12-31</td>\n",
       "      <td>UK</td>\n",
       "      <td>8063</td>\n",
       "      <td>398</td>\n",
       "      <td>4188</td>\n",
       "    </tr>\n",
       "  </tbody>\n",
       "</table>\n",
       "<p>1830 rows × 5 columns</p>\n",
       "</div>"
      ],
      "text/plain": [
       "            Date Country  Confirmed  Deaths  Recovered\n",
       "0     2020-01-01     USA       9391     148       4101\n",
       "1     2020-01-02     USA       9463     135       4136\n",
       "2     2020-01-03     USA       9060     115       3682\n",
       "3     2020-01-04     USA       8673      99       3886\n",
       "4     2020-01-05     USA       9807      93       3490\n",
       "...          ...     ...        ...     ...        ...\n",
       "1825  2020-12-27      UK       8532     388       3975\n",
       "1826  2020-12-28      UK       8176     371       3638\n",
       "1827  2020-12-29      UK       8891     398       4066\n",
       "1828  2020-12-30      UK       8073     410       4251\n",
       "1829  2020-12-31      UK       8063     398       4188\n",
       "\n",
       "[1830 rows x 5 columns]"
      ]
     },
     "execution_count": 2,
     "metadata": {},
     "output_type": "execute_result"
    }
   ],
   "source": [
    "my_df=pd.read_csv(\"covid19_data.csv\")\n",
    "my_df"
   ]
  },
  {
   "cell_type": "code",
   "execution_count": 3,
   "id": "db4d2c29-6c4d-4279-8278-364acb5c41bd",
   "metadata": {},
   "outputs": [
    {
     "data": {
      "text/plain": [
       "272.6874316939891"
      ]
     },
     "execution_count": 3,
     "metadata": {},
     "output_type": "execute_result"
    }
   ],
   "source": [
    "my_df.Deaths.mean()"
   ]
  },
  {
   "cell_type": "code",
   "execution_count": 5,
   "id": "db1dc15e-3cd1-4874-86c1-5763262b1019",
   "metadata": {},
   "outputs": [
    {
     "data": {
      "text/plain": [
       "272.6874316939891"
      ]
     },
     "execution_count": 5,
     "metadata": {},
     "output_type": "execute_result"
    }
   ],
   "source": [
    "avg_Deaths=my_df.Deaths.mean()\n",
    "avg_Deaths"
   ]
  },
  {
   "cell_type": "code",
   "execution_count": 7,
   "id": "76399811-f8a9-43d0-be06-8be6d631517d",
   "metadata": {},
   "outputs": [
    {
     "data": {
      "text/plain": [
       "491"
      ]
     },
     "execution_count": 7,
     "metadata": {},
     "output_type": "execute_result"
    }
   ],
   "source": [
    "max_mini_1=my_df[\"Deaths\"].max()\n",
    "max_mini_1"
   ]
  },
  {
   "cell_type": "code",
   "execution_count": 8,
   "id": "cb3cb5d8-67ca-4196-941c-f61032f8f38a",
   "metadata": {},
   "outputs": [
    {
     "data": {
      "text/html": [
       "<div>\n",
       "<style scoped>\n",
       "    .dataframe tbody tr th:only-of-type {\n",
       "        vertical-align: middle;\n",
       "    }\n",
       "\n",
       "    .dataframe tbody tr th {\n",
       "        vertical-align: top;\n",
       "    }\n",
       "\n",
       "    .dataframe thead th {\n",
       "        text-align: right;\n",
       "    }\n",
       "</style>\n",
       "<table border=\"1\" class=\"dataframe\">\n",
       "  <thead>\n",
       "    <tr style=\"text-align: right;\">\n",
       "      <th></th>\n",
       "      <th>Confirmed</th>\n",
       "      <th>Deaths</th>\n",
       "      <th>Recovered</th>\n",
       "    </tr>\n",
       "  </thead>\n",
       "  <tbody>\n",
       "    <tr>\n",
       "      <th>count</th>\n",
       "      <td>1830.000000</td>\n",
       "      <td>1830.000000</td>\n",
       "      <td>1830.000000</td>\n",
       "    </tr>\n",
       "    <tr>\n",
       "      <th>mean</th>\n",
       "      <td>7483.475410</td>\n",
       "      <td>272.687432</td>\n",
       "      <td>3895.686885</td>\n",
       "    </tr>\n",
       "    <tr>\n",
       "      <th>std</th>\n",
       "      <td>1333.202887</td>\n",
       "      <td>133.940875</td>\n",
       "      <td>1123.064848</td>\n",
       "    </tr>\n",
       "    <tr>\n",
       "      <th>min</th>\n",
       "      <td>5074.000000</td>\n",
       "      <td>88.000000</td>\n",
       "      <td>2303.000000</td>\n",
       "    </tr>\n",
       "    <tr>\n",
       "      <th>25%</th>\n",
       "      <td>6228.500000</td>\n",
       "      <td>150.250000</td>\n",
       "      <td>3095.000000</td>\n",
       "    </tr>\n",
       "    <tr>\n",
       "      <th>50%</th>\n",
       "      <td>7726.500000</td>\n",
       "      <td>220.000000</td>\n",
       "      <td>3599.000000</td>\n",
       "    </tr>\n",
       "    <tr>\n",
       "      <th>75%</th>\n",
       "      <td>8603.000000</td>\n",
       "      <td>419.000000</td>\n",
       "      <td>4208.250000</td>\n",
       "    </tr>\n",
       "    <tr>\n",
       "      <th>max</th>\n",
       "      <td>9883.000000</td>\n",
       "      <td>491.000000</td>\n",
       "      <td>6393.000000</td>\n",
       "    </tr>\n",
       "  </tbody>\n",
       "</table>\n",
       "</div>"
      ],
      "text/plain": [
       "         Confirmed       Deaths    Recovered\n",
       "count  1830.000000  1830.000000  1830.000000\n",
       "mean   7483.475410   272.687432  3895.686885\n",
       "std    1333.202887   133.940875  1123.064848\n",
       "min    5074.000000    88.000000  2303.000000\n",
       "25%    6228.500000   150.250000  3095.000000\n",
       "50%    7726.500000   220.000000  3599.000000\n",
       "75%    8603.000000   419.000000  4208.250000\n",
       "max    9883.000000   491.000000  6393.000000"
      ]
     },
     "execution_count": 8,
     "metadata": {},
     "output_type": "execute_result"
    }
   ],
   "source": [
    "summary_df=my_df.describe()\n",
    "summary_df"
   ]
  },
  {
   "cell_type": "code",
   "execution_count": 9,
   "id": "6c573a02-501b-4756-b6cd-28b6d2620d13",
   "metadata": {},
   "outputs": [
    {
     "data": {
      "text/html": [
       "<div>\n",
       "<style scoped>\n",
       "    .dataframe tbody tr th:only-of-type {\n",
       "        vertical-align: middle;\n",
       "    }\n",
       "\n",
       "    .dataframe tbody tr th {\n",
       "        vertical-align: top;\n",
       "    }\n",
       "\n",
       "    .dataframe thead th {\n",
       "        text-align: right;\n",
       "    }\n",
       "</style>\n",
       "<table border=\"1\" class=\"dataframe\">\n",
       "  <thead>\n",
       "    <tr style=\"text-align: right;\">\n",
       "      <th></th>\n",
       "      <th>Deaths</th>\n",
       "      <th>Recovered</th>\n",
       "    </tr>\n",
       "  </thead>\n",
       "  <tbody>\n",
       "    <tr>\n",
       "      <th>count</th>\n",
       "      <td>1830.000000</td>\n",
       "      <td>1830.000000</td>\n",
       "    </tr>\n",
       "    <tr>\n",
       "      <th>mean</th>\n",
       "      <td>272.687432</td>\n",
       "      <td>3895.686885</td>\n",
       "    </tr>\n",
       "    <tr>\n",
       "      <th>std</th>\n",
       "      <td>133.940875</td>\n",
       "      <td>1123.064848</td>\n",
       "    </tr>\n",
       "    <tr>\n",
       "      <th>min</th>\n",
       "      <td>88.000000</td>\n",
       "      <td>2303.000000</td>\n",
       "    </tr>\n",
       "    <tr>\n",
       "      <th>25%</th>\n",
       "      <td>150.250000</td>\n",
       "      <td>3095.000000</td>\n",
       "    </tr>\n",
       "    <tr>\n",
       "      <th>50%</th>\n",
       "      <td>220.000000</td>\n",
       "      <td>3599.000000</td>\n",
       "    </tr>\n",
       "    <tr>\n",
       "      <th>75%</th>\n",
       "      <td>419.000000</td>\n",
       "      <td>4208.250000</td>\n",
       "    </tr>\n",
       "    <tr>\n",
       "      <th>max</th>\n",
       "      <td>491.000000</td>\n",
       "      <td>6393.000000</td>\n",
       "    </tr>\n",
       "  </tbody>\n",
       "</table>\n",
       "</div>"
      ],
      "text/plain": [
       "            Deaths    Recovered\n",
       "count  1830.000000  1830.000000\n",
       "mean    272.687432  3895.686885\n",
       "std     133.940875  1123.064848\n",
       "min      88.000000  2303.000000\n",
       "25%     150.250000  3095.000000\n",
       "50%     220.000000  3599.000000\n",
       "75%     419.000000  4208.250000\n",
       "max     491.000000  6393.000000"
      ]
     },
     "execution_count": 9,
     "metadata": {},
     "output_type": "execute_result"
    }
   ],
   "source": [
    "summary_df=my_df.describe()\n",
    "summary_df[[\"Deaths\",\"Recovered\"]]"
   ]
  },
  {
   "cell_type": "code",
   "execution_count": 10,
   "id": "5df7cc1c-3de1-48a2-8694-191a231b0be9",
   "metadata": {},
   "outputs": [
    {
     "data": {
      "text/plain": [
       "Deaths\n",
       "431    19\n",
       "132    18\n",
       "145    17\n",
       "196    16\n",
       "189    15\n",
       "       ..\n",
       "181     1\n",
       "488     1\n",
       "98      1\n",
       "481     1\n",
       "491     1\n",
       "Name: count, Length: 289, dtype: int64"
      ]
     },
     "execution_count": 10,
     "metadata": {},
     "output_type": "execute_result"
    }
   ],
   "source": [
    "my_df[\"Deaths\"].value_counts()"
   ]
  },
  {
   "cell_type": "code",
   "execution_count": 11,
   "id": "e6d7c26b-e412-4e57-806a-ca394c559ae5",
   "metadata": {},
   "outputs": [
    {
     "data": {
      "text/plain": [
       "Deaths\n",
       "431    19\n",
       "132    18\n",
       "145    17\n",
       "196    16\n",
       "189    15\n",
       "       ..\n",
       "181     1\n",
       "488     1\n",
       "98      1\n",
       "481     1\n",
       "491     1\n",
       "Name: count, Length: 289, dtype: int64"
      ]
     },
     "execution_count": 11,
     "metadata": {},
     "output_type": "execute_result"
    }
   ],
   "source": [
    "counts=my_df[\"Deaths\"].value_counts()\n",
    "counts"
   ]
  },
  {
   "cell_type": "code",
   "execution_count": 22,
   "id": "770677f6-3deb-4490-8826-a2e40e9f1443",
   "metadata": {},
   "outputs": [
    {
     "data": {
      "text/plain": [
       "array([4101, 4136, 3682, ..., 3975, 3638, 4251], dtype=int64)"
      ]
     },
     "execution_count": 22,
     "metadata": {},
     "output_type": "execute_result"
    }
   ],
   "source": [
    "my_df[\"Recovered\"].unique()"
   ]
  },
  {
   "cell_type": "code",
   "execution_count": 23,
   "id": "cef465d9-2cb4-4146-954e-0d938f912922",
   "metadata": {},
   "outputs": [
    {
     "data": {
      "text/plain": [
       "9391"
      ]
     },
     "execution_count": 23,
     "metadata": {},
     "output_type": "execute_result"
    }
   ],
   "source": [
    "unique_values=my_df[\"Confirmed\"].unique()\n",
    "unique_values[0]"
   ]
  },
  {
   "cell_type": "code",
   "execution_count": 24,
   "id": "21103c8c-f90c-4b6a-b188-05a8bb3febc0",
   "metadata": {},
   "outputs": [
    {
     "data": {
      "text/plain": [
       "1500"
      ]
     },
     "execution_count": 24,
     "metadata": {},
     "output_type": "execute_result"
    }
   ],
   "source": [
    "len(unique_values)"
   ]
  },
  {
   "cell_type": "code",
   "execution_count": 25,
   "id": "04adec62-b46a-4d84-9deb-2b5de114a4c1",
   "metadata": {},
   "outputs": [
    {
     "data": {
      "text/plain": [
       "(1830, 5)"
      ]
     },
     "execution_count": 25,
     "metadata": {},
     "output_type": "execute_result"
    }
   ],
   "source": [
    "my_df.shape"
   ]
  },
  {
   "cell_type": "code",
   "execution_count": 26,
   "id": "0392cac5-ed5a-4141-a35b-8af71daeaa51",
   "metadata": {},
   "outputs": [
    {
     "data": {
      "text/plain": [
       "Date         object\n",
       "Country      object\n",
       "Confirmed     int64\n",
       "Deaths        int64\n",
       "Recovered     int64\n",
       "dtype: object"
      ]
     },
     "execution_count": 26,
     "metadata": {},
     "output_type": "execute_result"
    }
   ],
   "source": [
    "my_df.dtypes"
   ]
  },
  {
   "cell_type": "code",
   "execution_count": 27,
   "id": "af1fac3f-3bf3-4509-8225-fbe7ef76deab",
   "metadata": {},
   "outputs": [
    {
     "data": {
      "text/html": [
       "<div>\n",
       "<style scoped>\n",
       "    .dataframe tbody tr th:only-of-type {\n",
       "        vertical-align: middle;\n",
       "    }\n",
       "\n",
       "    .dataframe tbody tr th {\n",
       "        vertical-align: top;\n",
       "    }\n",
       "\n",
       "    .dataframe thead th {\n",
       "        text-align: right;\n",
       "    }\n",
       "</style>\n",
       "<table border=\"1\" class=\"dataframe\">\n",
       "  <thead>\n",
       "    <tr style=\"text-align: right;\">\n",
       "      <th></th>\n",
       "      <th>Date</th>\n",
       "      <th>Country</th>\n",
       "      <th>Confirmed</th>\n",
       "      <th>Deaths</th>\n",
       "      <th>Recovered</th>\n",
       "    </tr>\n",
       "  </thead>\n",
       "  <tbody>\n",
       "    <tr>\n",
       "      <th>0</th>\n",
       "      <td>2020-01-01</td>\n",
       "      <td>USA</td>\n",
       "      <td>9391</td>\n",
       "      <td>148</td>\n",
       "      <td>4101</td>\n",
       "    </tr>\n",
       "    <tr>\n",
       "      <th>1</th>\n",
       "      <td>2020-01-02</td>\n",
       "      <td>USA</td>\n",
       "      <td>9463</td>\n",
       "      <td>135</td>\n",
       "      <td>4136</td>\n",
       "    </tr>\n",
       "    <tr>\n",
       "      <th>2</th>\n",
       "      <td>2020-01-03</td>\n",
       "      <td>USA</td>\n",
       "      <td>9060</td>\n",
       "      <td>115</td>\n",
       "      <td>3682</td>\n",
       "    </tr>\n",
       "    <tr>\n",
       "      <th>3</th>\n",
       "      <td>2020-01-04</td>\n",
       "      <td>USA</td>\n",
       "      <td>8673</td>\n",
       "      <td>99</td>\n",
       "      <td>3886</td>\n",
       "    </tr>\n",
       "    <tr>\n",
       "      <th>4</th>\n",
       "      <td>2020-01-05</td>\n",
       "      <td>USA</td>\n",
       "      <td>9807</td>\n",
       "      <td>93</td>\n",
       "      <td>3490</td>\n",
       "    </tr>\n",
       "  </tbody>\n",
       "</table>\n",
       "</div>"
      ],
      "text/plain": [
       "         Date Country  Confirmed  Deaths  Recovered\n",
       "0  2020-01-01     USA       9391     148       4101\n",
       "1  2020-01-02     USA       9463     135       4136\n",
       "2  2020-01-03     USA       9060     115       3682\n",
       "3  2020-01-04     USA       8673      99       3886\n",
       "4  2020-01-05     USA       9807      93       3490"
      ]
     },
     "execution_count": 27,
     "metadata": {},
     "output_type": "execute_result"
    }
   ],
   "source": [
    "my_df.head()"
   ]
  },
  {
   "cell_type": "code",
   "execution_count": 28,
   "id": "4d9c60bf-fc08-46f9-a628-38df83ebb5c6",
   "metadata": {},
   "outputs": [
    {
     "data": {
      "text/plain": [
       "7483.475409836065"
      ]
     },
     "execution_count": 28,
     "metadata": {},
     "output_type": "execute_result"
    }
   ],
   "source": [
    "my_df[\"Confirmed\"].mean()"
   ]
  },
  {
   "cell_type": "code",
   "execution_count": 1,
   "id": "afbc300b-fe8d-4b80-9b12-bd1364d2d186",
   "metadata": {},
   "outputs": [],
   "source": [
    "import pandas as pd "
   ]
  },
  {
   "cell_type": "code",
   "execution_count": 2,
   "id": "419337a5-2bc1-4c7b-90b6-95ec7ef8ea73",
   "metadata": {},
   "outputs": [
    {
     "data": {
      "text/html": [
       "<div>\n",
       "<style scoped>\n",
       "    .dataframe tbody tr th:only-of-type {\n",
       "        vertical-align: middle;\n",
       "    }\n",
       "\n",
       "    .dataframe tbody tr th {\n",
       "        vertical-align: top;\n",
       "    }\n",
       "\n",
       "    .dataframe thead th {\n",
       "        text-align: right;\n",
       "    }\n",
       "</style>\n",
       "<table border=\"1\" class=\"dataframe\">\n",
       "  <thead>\n",
       "    <tr style=\"text-align: right;\">\n",
       "      <th></th>\n",
       "      <th>Date</th>\n",
       "      <th>Country</th>\n",
       "      <th>Confirmed</th>\n",
       "      <th>Deaths</th>\n",
       "      <th>Recovered</th>\n",
       "    </tr>\n",
       "  </thead>\n",
       "  <tbody>\n",
       "    <tr>\n",
       "      <th>0</th>\n",
       "      <td>2020-01-01</td>\n",
       "      <td>USA</td>\n",
       "      <td>9391</td>\n",
       "      <td>148</td>\n",
       "      <td>4101</td>\n",
       "    </tr>\n",
       "    <tr>\n",
       "      <th>1</th>\n",
       "      <td>2020-01-02</td>\n",
       "      <td>USA</td>\n",
       "      <td>9463</td>\n",
       "      <td>135</td>\n",
       "      <td>4136</td>\n",
       "    </tr>\n",
       "    <tr>\n",
       "      <th>2</th>\n",
       "      <td>2020-01-03</td>\n",
       "      <td>USA</td>\n",
       "      <td>9060</td>\n",
       "      <td>115</td>\n",
       "      <td>3682</td>\n",
       "    </tr>\n",
       "    <tr>\n",
       "      <th>3</th>\n",
       "      <td>2020-01-04</td>\n",
       "      <td>USA</td>\n",
       "      <td>8673</td>\n",
       "      <td>99</td>\n",
       "      <td>3886</td>\n",
       "    </tr>\n",
       "    <tr>\n",
       "      <th>4</th>\n",
       "      <td>2020-01-05</td>\n",
       "      <td>USA</td>\n",
       "      <td>9807</td>\n",
       "      <td>93</td>\n",
       "      <td>3490</td>\n",
       "    </tr>\n",
       "  </tbody>\n",
       "</table>\n",
       "</div>"
      ],
      "text/plain": [
       "         Date Country  Confirmed  Deaths  Recovered\n",
       "0  2020-01-01     USA       9391     148       4101\n",
       "1  2020-01-02     USA       9463     135       4136\n",
       "2  2020-01-03     USA       9060     115       3682\n",
       "3  2020-01-04     USA       8673      99       3886\n",
       "4  2020-01-05     USA       9807      93       3490"
      ]
     },
     "execution_count": 2,
     "metadata": {},
     "output_type": "execute_result"
    }
   ],
   "source": [
    "my_df=pd.read_csv(\"covid19_data.csv\")\n",
    "my_df.head()"
   ]
  },
  {
   "cell_type": "code",
   "execution_count": 3,
   "id": "273da0d9-bc76-4ed0-bb38-bd502e066ea1",
   "metadata": {},
   "outputs": [
    {
     "data": {
      "text/html": [
       "<div>\n",
       "<style scoped>\n",
       "    .dataframe tbody tr th:only-of-type {\n",
       "        vertical-align: middle;\n",
       "    }\n",
       "\n",
       "    .dataframe tbody tr th {\n",
       "        vertical-align: top;\n",
       "    }\n",
       "\n",
       "    .dataframe thead th {\n",
       "        text-align: right;\n",
       "    }\n",
       "</style>\n",
       "<table border=\"1\" class=\"dataframe\">\n",
       "  <thead>\n",
       "    <tr style=\"text-align: right;\">\n",
       "      <th></th>\n",
       "      <th>Date</th>\n",
       "      <th>Country</th>\n",
       "      <th>Confirmed</th>\n",
       "      <th>Deaths</th>\n",
       "      <th>Recovered</th>\n",
       "      <th>new_columns</th>\n",
       "    </tr>\n",
       "  </thead>\n",
       "  <tbody>\n",
       "    <tr>\n",
       "      <th>0</th>\n",
       "      <td>2020-01-01</td>\n",
       "      <td>USA</td>\n",
       "      <td>9391</td>\n",
       "      <td>148</td>\n",
       "      <td>4101</td>\n",
       "      <td>1</td>\n",
       "    </tr>\n",
       "    <tr>\n",
       "      <th>1</th>\n",
       "      <td>2020-01-02</td>\n",
       "      <td>USA</td>\n",
       "      <td>9463</td>\n",
       "      <td>135</td>\n",
       "      <td>4136</td>\n",
       "      <td>1</td>\n",
       "    </tr>\n",
       "    <tr>\n",
       "      <th>2</th>\n",
       "      <td>2020-01-03</td>\n",
       "      <td>USA</td>\n",
       "      <td>9060</td>\n",
       "      <td>115</td>\n",
       "      <td>3682</td>\n",
       "      <td>1</td>\n",
       "    </tr>\n",
       "    <tr>\n",
       "      <th>3</th>\n",
       "      <td>2020-01-04</td>\n",
       "      <td>USA</td>\n",
       "      <td>8673</td>\n",
       "      <td>99</td>\n",
       "      <td>3886</td>\n",
       "      <td>1</td>\n",
       "    </tr>\n",
       "    <tr>\n",
       "      <th>4</th>\n",
       "      <td>2020-01-05</td>\n",
       "      <td>USA</td>\n",
       "      <td>9807</td>\n",
       "      <td>93</td>\n",
       "      <td>3490</td>\n",
       "      <td>1</td>\n",
       "    </tr>\n",
       "  </tbody>\n",
       "</table>\n",
       "</div>"
      ],
      "text/plain": [
       "         Date Country  Confirmed  Deaths  Recovered  new_columns\n",
       "0  2020-01-01     USA       9391     148       4101            1\n",
       "1  2020-01-02     USA       9463     135       4136            1\n",
       "2  2020-01-03     USA       9060     115       3682            1\n",
       "3  2020-01-04     USA       8673      99       3886            1\n",
       "4  2020-01-05     USA       9807      93       3490            1"
      ]
     },
     "execution_count": 3,
     "metadata": {},
     "output_type": "execute_result"
    }
   ],
   "source": [
    "my_df[\"new_columns\"]=1\n",
    "my_df.head()"
   ]
  },
  {
   "cell_type": "code",
   "execution_count": 7,
   "id": "90fc7c1b-566e-45f9-9aee-68f3033ab90d",
   "metadata": {},
   "outputs": [
    {
     "data": {
      "text/html": [
       "<div>\n",
       "<style scoped>\n",
       "    .dataframe tbody tr th:only-of-type {\n",
       "        vertical-align: middle;\n",
       "    }\n",
       "\n",
       "    .dataframe tbody tr th {\n",
       "        vertical-align: top;\n",
       "    }\n",
       "\n",
       "    .dataframe thead th {\n",
       "        text-align: right;\n",
       "    }\n",
       "</style>\n",
       "<table border=\"1\" class=\"dataframe\">\n",
       "  <thead>\n",
       "    <tr style=\"text-align: right;\">\n",
       "      <th></th>\n",
       "      <th>Date</th>\n",
       "      <th>Country</th>\n",
       "      <th>Confirmed</th>\n",
       "      <th>Deaths</th>\n",
       "      <th>Recovered</th>\n",
       "      <th>Final Percentage</th>\n",
       "    </tr>\n",
       "  </thead>\n",
       "  <tbody>\n",
       "    <tr>\n",
       "      <th>0</th>\n",
       "      <td>2020-01-01</td>\n",
       "      <td>USA</td>\n",
       "      <td>9391</td>\n",
       "      <td>148</td>\n",
       "      <td>4101</td>\n",
       "      <td>4.111111</td>\n",
       "    </tr>\n",
       "    <tr>\n",
       "      <th>1</th>\n",
       "      <td>2020-01-02</td>\n",
       "      <td>USA</td>\n",
       "      <td>9463</td>\n",
       "      <td>135</td>\n",
       "      <td>4136</td>\n",
       "      <td>3.750000</td>\n",
       "    </tr>\n",
       "    <tr>\n",
       "      <th>2</th>\n",
       "      <td>2020-01-03</td>\n",
       "      <td>USA</td>\n",
       "      <td>9060</td>\n",
       "      <td>115</td>\n",
       "      <td>3682</td>\n",
       "      <td>3.194444</td>\n",
       "    </tr>\n",
       "    <tr>\n",
       "      <th>3</th>\n",
       "      <td>2020-01-04</td>\n",
       "      <td>USA</td>\n",
       "      <td>8673</td>\n",
       "      <td>99</td>\n",
       "      <td>3886</td>\n",
       "      <td>2.750000</td>\n",
       "    </tr>\n",
       "    <tr>\n",
       "      <th>4</th>\n",
       "      <td>2020-01-05</td>\n",
       "      <td>USA</td>\n",
       "      <td>9807</td>\n",
       "      <td>93</td>\n",
       "      <td>3490</td>\n",
       "      <td>2.583333</td>\n",
       "    </tr>\n",
       "  </tbody>\n",
       "</table>\n",
       "</div>"
      ],
      "text/plain": [
       "         Date Country  Confirmed  Deaths  Recovered  Final Percentage\n",
       "0  2020-01-01     USA       9391     148       4101          4.111111\n",
       "1  2020-01-02     USA       9463     135       4136          3.750000\n",
       "2  2020-01-03     USA       9060     115       3682          3.194444\n",
       "3  2020-01-04     USA       8673      99       3886          2.750000\n",
       "4  2020-01-05     USA       9807      93       3490          2.583333"
      ]
     },
     "execution_count": 7,
     "metadata": {},
     "output_type": "execute_result"
    }
   ],
   "source": [
    "my_df[\"Final Percentage\"]=my_df[\"Deaths\"]/36\n",
    "my_df.head()"
   ]
  },
  {
   "cell_type": "code",
   "execution_count": 8,
   "id": "4d6c9518-aa54-425f-b9cd-b314b70f3136",
   "metadata": {},
   "outputs": [
    {
     "data": {
      "text/html": [
       "<div>\n",
       "<style scoped>\n",
       "    .dataframe tbody tr th:only-of-type {\n",
       "        vertical-align: middle;\n",
       "    }\n",
       "\n",
       "    .dataframe tbody tr th {\n",
       "        vertical-align: top;\n",
       "    }\n",
       "\n",
       "    .dataframe thead th {\n",
       "        text-align: right;\n",
       "    }\n",
       "</style>\n",
       "<table border=\"1\" class=\"dataframe\">\n",
       "  <thead>\n",
       "    <tr style=\"text-align: right;\">\n",
       "      <th></th>\n",
       "      <th>Date</th>\n",
       "      <th>Country</th>\n",
       "      <th>Confirmed</th>\n",
       "      <th>Deaths</th>\n",
       "      <th>Recovered</th>\n",
       "      <th>Final Percentage</th>\n",
       "    </tr>\n",
       "  </thead>\n",
       "  <tbody>\n",
       "    <tr>\n",
       "      <th>0</th>\n",
       "      <td>2020-01-01</td>\n",
       "      <td>USA</td>\n",
       "      <td>9391</td>\n",
       "      <td>148</td>\n",
       "      <td>4101</td>\n",
       "      <td>4.111111</td>\n",
       "    </tr>\n",
       "    <tr>\n",
       "      <th>1</th>\n",
       "      <td>2020-01-02</td>\n",
       "      <td>USA</td>\n",
       "      <td>9463</td>\n",
       "      <td>135</td>\n",
       "      <td>4136</td>\n",
       "      <td>3.750000</td>\n",
       "    </tr>\n",
       "    <tr>\n",
       "      <th>2</th>\n",
       "      <td>2020-01-03</td>\n",
       "      <td>USA</td>\n",
       "      <td>9060</td>\n",
       "      <td>115</td>\n",
       "      <td>3682</td>\n",
       "      <td>3.194444</td>\n",
       "    </tr>\n",
       "    <tr>\n",
       "      <th>3</th>\n",
       "      <td>2020-01-04</td>\n",
       "      <td>USA</td>\n",
       "      <td>8673</td>\n",
       "      <td>99</td>\n",
       "      <td>3886</td>\n",
       "      <td>2.750000</td>\n",
       "    </tr>\n",
       "    <tr>\n",
       "      <th>4</th>\n",
       "      <td>2020-01-05</td>\n",
       "      <td>USA</td>\n",
       "      <td>9807</td>\n",
       "      <td>93</td>\n",
       "      <td>3490</td>\n",
       "      <td>2.583333</td>\n",
       "    </tr>\n",
       "  </tbody>\n",
       "</table>\n",
       "</div>"
      ],
      "text/plain": [
       "         Date Country  Confirmed  Deaths  Recovered  Final Percentage\n",
       "0  2020-01-01     USA       9391     148       4101          4.111111\n",
       "1  2020-01-02     USA       9463     135       4136          3.750000\n",
       "2  2020-01-03     USA       9060     115       3682          3.194444\n",
       "3  2020-01-04     USA       8673      99       3886          2.750000\n",
       "4  2020-01-05     USA       9807      93       3490          2.583333"
      ]
     },
     "execution_count": 8,
     "metadata": {},
     "output_type": "execute_result"
    }
   ],
   "source": [
    "my_df.head()"
   ]
  },
  {
   "cell_type": "code",
   "execution_count": 9,
   "id": "1d26f366-f0fb-4fce-836b-a40796f2a110",
   "metadata": {},
   "outputs": [
    {
     "data": {
      "text/html": [
       "<div>\n",
       "<style scoped>\n",
       "    .dataframe tbody tr th:only-of-type {\n",
       "        vertical-align: middle;\n",
       "    }\n",
       "\n",
       "    .dataframe tbody tr th {\n",
       "        vertical-align: top;\n",
       "    }\n",
       "\n",
       "    .dataframe thead th {\n",
       "        text-align: right;\n",
       "    }\n",
       "</style>\n",
       "<table border=\"1\" class=\"dataframe\">\n",
       "  <thead>\n",
       "    <tr style=\"text-align: right;\">\n",
       "      <th></th>\n",
       "      <th>Date</th>\n",
       "      <th>Country</th>\n",
       "      <th>Confirmed</th>\n",
       "      <th>Deaths</th>\n",
       "      <th>Recovered</th>\n",
       "    </tr>\n",
       "  </thead>\n",
       "  <tbody>\n",
       "    <tr>\n",
       "      <th>0</th>\n",
       "      <td>2020-01-01</td>\n",
       "      <td>USA</td>\n",
       "      <td>9391</td>\n",
       "      <td>148</td>\n",
       "      <td>4101</td>\n",
       "    </tr>\n",
       "    <tr>\n",
       "      <th>1</th>\n",
       "      <td>2020-01-02</td>\n",
       "      <td>USA</td>\n",
       "      <td>9463</td>\n",
       "      <td>135</td>\n",
       "      <td>4136</td>\n",
       "    </tr>\n",
       "    <tr>\n",
       "      <th>2</th>\n",
       "      <td>2020-01-03</td>\n",
       "      <td>USA</td>\n",
       "      <td>9060</td>\n",
       "      <td>115</td>\n",
       "      <td>3682</td>\n",
       "    </tr>\n",
       "    <tr>\n",
       "      <th>3</th>\n",
       "      <td>2020-01-04</td>\n",
       "      <td>USA</td>\n",
       "      <td>8673</td>\n",
       "      <td>99</td>\n",
       "      <td>3886</td>\n",
       "    </tr>\n",
       "    <tr>\n",
       "      <th>4</th>\n",
       "      <td>2020-01-05</td>\n",
       "      <td>USA</td>\n",
       "      <td>9807</td>\n",
       "      <td>93</td>\n",
       "      <td>3490</td>\n",
       "    </tr>\n",
       "  </tbody>\n",
       "</table>\n",
       "</div>"
      ],
      "text/plain": [
       "         Date Country  Confirmed  Deaths  Recovered\n",
       "0  2020-01-01     USA       9391     148       4101\n",
       "1  2020-01-02     USA       9463     135       4136\n",
       "2  2020-01-03     USA       9060     115       3682\n",
       "3  2020-01-04     USA       8673      99       3886\n",
       "4  2020-01-05     USA       9807      93       3490"
      ]
     },
     "execution_count": 9,
     "metadata": {},
     "output_type": "execute_result"
    }
   ],
   "source": [
    "del my_df[\"Final Percentage\"]\n",
    "my_df.head()"
   ]
  },
  {
   "cell_type": "code",
   "execution_count": 13,
   "id": "94c7733d-bb38-44b4-8573-2230bff6ffda",
   "metadata": {},
   "outputs": [],
   "source": [
    "import pandas as pd "
   ]
  },
  {
   "cell_type": "code",
   "execution_count": 14,
   "id": "242e8784-1195-47fc-b3bd-cbf666ce470c",
   "metadata": {},
   "outputs": [
    {
     "data": {
      "text/html": [
       "<div>\n",
       "<style scoped>\n",
       "    .dataframe tbody tr th:only-of-type {\n",
       "        vertical-align: middle;\n",
       "    }\n",
       "\n",
       "    .dataframe tbody tr th {\n",
       "        vertical-align: top;\n",
       "    }\n",
       "\n",
       "    .dataframe thead th {\n",
       "        text-align: right;\n",
       "    }\n",
       "</style>\n",
       "<table border=\"1\" class=\"dataframe\">\n",
       "  <thead>\n",
       "    <tr style=\"text-align: right;\">\n",
       "      <th></th>\n",
       "      <th>Date</th>\n",
       "      <th>Country</th>\n",
       "      <th>Confirmed</th>\n",
       "      <th>Deaths</th>\n",
       "      <th>Recovered</th>\n",
       "    </tr>\n",
       "  </thead>\n",
       "  <tbody>\n",
       "    <tr>\n",
       "      <th>0</th>\n",
       "      <td>2020-01-01</td>\n",
       "      <td>USA</td>\n",
       "      <td>9391</td>\n",
       "      <td>148</td>\n",
       "      <td>4101</td>\n",
       "    </tr>\n",
       "    <tr>\n",
       "      <th>1</th>\n",
       "      <td>2020-01-02</td>\n",
       "      <td>USA</td>\n",
       "      <td>9463</td>\n",
       "      <td>135</td>\n",
       "      <td>4136</td>\n",
       "    </tr>\n",
       "    <tr>\n",
       "      <th>2</th>\n",
       "      <td>2020-01-03</td>\n",
       "      <td>USA</td>\n",
       "      <td>9060</td>\n",
       "      <td>115</td>\n",
       "      <td>3682</td>\n",
       "    </tr>\n",
       "    <tr>\n",
       "      <th>3</th>\n",
       "      <td>2020-01-04</td>\n",
       "      <td>USA</td>\n",
       "      <td>8673</td>\n",
       "      <td>99</td>\n",
       "      <td>3886</td>\n",
       "    </tr>\n",
       "    <tr>\n",
       "      <th>4</th>\n",
       "      <td>2020-01-05</td>\n",
       "      <td>USA</td>\n",
       "      <td>9807</td>\n",
       "      <td>93</td>\n",
       "      <td>3490</td>\n",
       "    </tr>\n",
       "  </tbody>\n",
       "</table>\n",
       "</div>"
      ],
      "text/plain": [
       "         Date Country  Confirmed  Deaths  Recovered\n",
       "0  2020-01-01     USA       9391     148       4101\n",
       "1  2020-01-02     USA       9463     135       4136\n",
       "2  2020-01-03     USA       9060     115       3682\n",
       "3  2020-01-04     USA       8673      99       3886\n",
       "4  2020-01-05     USA       9807      93       3490"
      ]
     },
     "execution_count": 14,
     "metadata": {},
     "output_type": "execute_result"
    }
   ],
   "source": [
    "my_df2=pd.read_csv(\"covid19_data.csv\")\n",
    "my_df2.head()"
   ]
  },
  {
   "cell_type": "code",
   "execution_count": 15,
   "id": "95068cc6-9a52-4e62-90d6-805e27fa9917",
   "metadata": {},
   "outputs": [
    {
     "data": {
      "text/html": [
       "<div>\n",
       "<style scoped>\n",
       "    .dataframe tbody tr th:only-of-type {\n",
       "        vertical-align: middle;\n",
       "    }\n",
       "\n",
       "    .dataframe tbody tr th {\n",
       "        vertical-align: top;\n",
       "    }\n",
       "\n",
       "    .dataframe thead th {\n",
       "        text-align: right;\n",
       "    }\n",
       "</style>\n",
       "<table border=\"1\" class=\"dataframe\">\n",
       "  <thead>\n",
       "    <tr style=\"text-align: right;\">\n",
       "      <th></th>\n",
       "      <th>Date</th>\n",
       "      <th>Country</th>\n",
       "      <th>Confirmed</th>\n",
       "      <th>Deaths</th>\n",
       "      <th>Recovered</th>\n",
       "      <th>new_columns</th>\n",
       "    </tr>\n",
       "  </thead>\n",
       "  <tbody>\n",
       "    <tr>\n",
       "      <th>0</th>\n",
       "      <td>2020-01-01</td>\n",
       "      <td>USA</td>\n",
       "      <td>9391</td>\n",
       "      <td>148</td>\n",
       "      <td>4101</td>\n",
       "      <td>1</td>\n",
       "    </tr>\n",
       "    <tr>\n",
       "      <th>1</th>\n",
       "      <td>2020-01-02</td>\n",
       "      <td>USA</td>\n",
       "      <td>9463</td>\n",
       "      <td>135</td>\n",
       "      <td>4136</td>\n",
       "      <td>1</td>\n",
       "    </tr>\n",
       "    <tr>\n",
       "      <th>2</th>\n",
       "      <td>2020-01-03</td>\n",
       "      <td>USA</td>\n",
       "      <td>9060</td>\n",
       "      <td>115</td>\n",
       "      <td>3682</td>\n",
       "      <td>1</td>\n",
       "    </tr>\n",
       "    <tr>\n",
       "      <th>3</th>\n",
       "      <td>2020-01-04</td>\n",
       "      <td>USA</td>\n",
       "      <td>8673</td>\n",
       "      <td>99</td>\n",
       "      <td>3886</td>\n",
       "      <td>1</td>\n",
       "    </tr>\n",
       "    <tr>\n",
       "      <th>4</th>\n",
       "      <td>2020-01-05</td>\n",
       "      <td>USA</td>\n",
       "      <td>9807</td>\n",
       "      <td>93</td>\n",
       "      <td>3490</td>\n",
       "      <td>1</td>\n",
       "    </tr>\n",
       "  </tbody>\n",
       "</table>\n",
       "</div>"
      ],
      "text/plain": [
       "         Date Country  Confirmed  Deaths  Recovered  new_columns\n",
       "0  2020-01-01     USA       9391     148       4101            1\n",
       "1  2020-01-02     USA       9463     135       4136            1\n",
       "2  2020-01-03     USA       9060     115       3682            1\n",
       "3  2020-01-04     USA       8673      99       3886            1\n",
       "4  2020-01-05     USA       9807      93       3490            1"
      ]
     },
     "execution_count": 15,
     "metadata": {},
     "output_type": "execute_result"
    }
   ],
   "source": [
    "my_df2[\"new_columns\"]=1\n",
    "my_df2.head()"
   ]
  },
  {
   "cell_type": "code",
   "execution_count": 16,
   "id": "8c5267d2-429b-4d82-8c30-63e66bba8c7a",
   "metadata": {},
   "outputs": [
    {
     "data": {
      "text/html": [
       "<div>\n",
       "<style scoped>\n",
       "    .dataframe tbody tr th:only-of-type {\n",
       "        vertical-align: middle;\n",
       "    }\n",
       "\n",
       "    .dataframe tbody tr th {\n",
       "        vertical-align: top;\n",
       "    }\n",
       "\n",
       "    .dataframe thead th {\n",
       "        text-align: right;\n",
       "    }\n",
       "</style>\n",
       "<table border=\"1\" class=\"dataframe\">\n",
       "  <thead>\n",
       "    <tr style=\"text-align: right;\">\n",
       "      <th></th>\n",
       "      <th>Date</th>\n",
       "      <th>Country</th>\n",
       "      <th>Confirmed</th>\n",
       "      <th>Deaths</th>\n",
       "      <th>Recovered</th>\n",
       "      <th>new_columns</th>\n",
       "      <th>Part_perc</th>\n",
       "    </tr>\n",
       "  </thead>\n",
       "  <tbody>\n",
       "    <tr>\n",
       "      <th>0</th>\n",
       "      <td>2020-01-01</td>\n",
       "      <td>USA</td>\n",
       "      <td>9391</td>\n",
       "      <td>148</td>\n",
       "      <td>4101</td>\n",
       "      <td>1</td>\n",
       "      <td>1</td>\n",
       "    </tr>\n",
       "    <tr>\n",
       "      <th>1</th>\n",
       "      <td>2020-01-02</td>\n",
       "      <td>USA</td>\n",
       "      <td>9463</td>\n",
       "      <td>135</td>\n",
       "      <td>4136</td>\n",
       "      <td>1</td>\n",
       "      <td>1</td>\n",
       "    </tr>\n",
       "    <tr>\n",
       "      <th>2</th>\n",
       "      <td>2020-01-03</td>\n",
       "      <td>USA</td>\n",
       "      <td>9060</td>\n",
       "      <td>115</td>\n",
       "      <td>3682</td>\n",
       "      <td>1</td>\n",
       "      <td>1</td>\n",
       "    </tr>\n",
       "    <tr>\n",
       "      <th>3</th>\n",
       "      <td>2020-01-04</td>\n",
       "      <td>USA</td>\n",
       "      <td>8673</td>\n",
       "      <td>99</td>\n",
       "      <td>3886</td>\n",
       "      <td>1</td>\n",
       "      <td>1</td>\n",
       "    </tr>\n",
       "    <tr>\n",
       "      <th>4</th>\n",
       "      <td>2020-01-05</td>\n",
       "      <td>USA</td>\n",
       "      <td>9807</td>\n",
       "      <td>93</td>\n",
       "      <td>3490</td>\n",
       "      <td>1</td>\n",
       "      <td>1</td>\n",
       "    </tr>\n",
       "  </tbody>\n",
       "</table>\n",
       "</div>"
      ],
      "text/plain": [
       "         Date Country  Confirmed  Deaths  Recovered  new_columns  Part_perc\n",
       "0  2020-01-01     USA       9391     148       4101            1          1\n",
       "1  2020-01-02     USA       9463     135       4136            1          1\n",
       "2  2020-01-03     USA       9060     115       3682            1          1\n",
       "3  2020-01-04     USA       8673      99       3886            1          1\n",
       "4  2020-01-05     USA       9807      93       3490            1          1"
      ]
     },
     "execution_count": 16,
     "metadata": {},
     "output_type": "execute_result"
    }
   ],
   "source": [
    "my_df2[\"Part_perc\"]=1\n",
    "my_df2.head()"
   ]
  },
  {
   "cell_type": "code",
   "execution_count": 21,
   "id": "b1766844-b20e-4603-b4a7-4cc48dbd463c",
   "metadata": {},
   "outputs": [
    {
     "data": {
      "text/html": [
       "<div>\n",
       "<style scoped>\n",
       "    .dataframe tbody tr th:only-of-type {\n",
       "        vertical-align: middle;\n",
       "    }\n",
       "\n",
       "    .dataframe tbody tr th {\n",
       "        vertical-align: top;\n",
       "    }\n",
       "\n",
       "    .dataframe thead th {\n",
       "        text-align: right;\n",
       "    }\n",
       "</style>\n",
       "<table border=\"1\" class=\"dataframe\">\n",
       "  <thead>\n",
       "    <tr style=\"text-align: right;\">\n",
       "      <th></th>\n",
       "      <th>Date</th>\n",
       "      <th>Country</th>\n",
       "      <th>Confirmed</th>\n",
       "      <th>Deaths</th>\n",
       "      <th>Recovered</th>\n",
       "    </tr>\n",
       "  </thead>\n",
       "  <tbody>\n",
       "    <tr>\n",
       "      <th>0</th>\n",
       "      <td>2020-01-01</td>\n",
       "      <td>USA</td>\n",
       "      <td>9391</td>\n",
       "      <td>148</td>\n",
       "      <td>4101</td>\n",
       "    </tr>\n",
       "    <tr>\n",
       "      <th>1</th>\n",
       "      <td>2020-01-02</td>\n",
       "      <td>USA</td>\n",
       "      <td>9463</td>\n",
       "      <td>135</td>\n",
       "      <td>4136</td>\n",
       "    </tr>\n",
       "    <tr>\n",
       "      <th>2</th>\n",
       "      <td>2020-01-03</td>\n",
       "      <td>USA</td>\n",
       "      <td>9060</td>\n",
       "      <td>115</td>\n",
       "      <td>3682</td>\n",
       "    </tr>\n",
       "    <tr>\n",
       "      <th>3</th>\n",
       "      <td>2020-01-04</td>\n",
       "      <td>USA</td>\n",
       "      <td>8673</td>\n",
       "      <td>99</td>\n",
       "      <td>3886</td>\n",
       "    </tr>\n",
       "    <tr>\n",
       "      <th>4</th>\n",
       "      <td>2020-01-05</td>\n",
       "      <td>USA</td>\n",
       "      <td>9807</td>\n",
       "      <td>93</td>\n",
       "      <td>3490</td>\n",
       "    </tr>\n",
       "  </tbody>\n",
       "</table>\n",
       "</div>"
      ],
      "text/plain": [
       "         Date Country  Confirmed  Deaths  Recovered\n",
       "0  2020-01-01     USA       9391     148       4101\n",
       "1  2020-01-02     USA       9463     135       4136\n",
       "2  2020-01-03     USA       9060     115       3682\n",
       "3  2020-01-04     USA       8673      99       3886\n",
       "4  2020-01-05     USA       9807      93       3490"
      ]
     },
     "execution_count": 21,
     "metadata": {},
     "output_type": "execute_result"
    }
   ],
   "source": [
    "my_df2.drop([\"new_columns\",\"Part_perc\"],axis=1, inplace=True)\n",
    "my_df2.head()            "
   ]
  },
  {
   "cell_type": "code",
   "execution_count": 24,
   "id": "d070c531-be48-4758-92cb-9efcf346c368",
   "metadata": {},
   "outputs": [
    {
     "data": {
      "text/html": [
       "<div>\n",
       "<style scoped>\n",
       "    .dataframe tbody tr th:only-of-type {\n",
       "        vertical-align: middle;\n",
       "    }\n",
       "\n",
       "    .dataframe tbody tr th {\n",
       "        vertical-align: top;\n",
       "    }\n",
       "\n",
       "    .dataframe thead th {\n",
       "        text-align: right;\n",
       "    }\n",
       "</style>\n",
       "<table border=\"1\" class=\"dataframe\">\n",
       "  <thead>\n",
       "    <tr style=\"text-align: right;\">\n",
       "      <th></th>\n",
       "      <th>Deaths</th>\n",
       "      <th>Recovered</th>\n",
       "    </tr>\n",
       "  </thead>\n",
       "  <tbody>\n",
       "    <tr>\n",
       "      <th>0</th>\n",
       "      <td>148</td>\n",
       "      <td>4101</td>\n",
       "    </tr>\n",
       "    <tr>\n",
       "      <th>1</th>\n",
       "      <td>135</td>\n",
       "      <td>4136</td>\n",
       "    </tr>\n",
       "    <tr>\n",
       "      <th>2</th>\n",
       "      <td>115</td>\n",
       "      <td>3682</td>\n",
       "    </tr>\n",
       "    <tr>\n",
       "      <th>3</th>\n",
       "      <td>99</td>\n",
       "      <td>3886</td>\n",
       "    </tr>\n",
       "    <tr>\n",
       "      <th>4</th>\n",
       "      <td>93</td>\n",
       "      <td>3490</td>\n",
       "    </tr>\n",
       "    <tr>\n",
       "      <th>...</th>\n",
       "      <td>...</td>\n",
       "      <td>...</td>\n",
       "    </tr>\n",
       "    <tr>\n",
       "      <th>1825</th>\n",
       "      <td>388</td>\n",
       "      <td>3975</td>\n",
       "    </tr>\n",
       "    <tr>\n",
       "      <th>1826</th>\n",
       "      <td>371</td>\n",
       "      <td>3638</td>\n",
       "    </tr>\n",
       "    <tr>\n",
       "      <th>1827</th>\n",
       "      <td>398</td>\n",
       "      <td>4066</td>\n",
       "    </tr>\n",
       "    <tr>\n",
       "      <th>1828</th>\n",
       "      <td>410</td>\n",
       "      <td>4251</td>\n",
       "    </tr>\n",
       "    <tr>\n",
       "      <th>1829</th>\n",
       "      <td>398</td>\n",
       "      <td>4188</td>\n",
       "    </tr>\n",
       "  </tbody>\n",
       "</table>\n",
       "<p>1830 rows × 2 columns</p>\n",
       "</div>"
      ],
      "text/plain": [
       "      Deaths  Recovered\n",
       "0        148       4101\n",
       "1        135       4136\n",
       "2        115       3682\n",
       "3         99       3886\n",
       "4         93       3490\n",
       "...      ...        ...\n",
       "1825     388       3975\n",
       "1826     371       3638\n",
       "1827     398       4066\n",
       "1828     410       4251\n",
       "1829     398       4188\n",
       "\n",
       "[1830 rows x 2 columns]"
      ]
     },
     "execution_count": 24,
     "metadata": {},
     "output_type": "execute_result"
    }
   ],
   "source": [
    "my_df2[[\"Deaths\",\"Recovered\"]]"
   ]
  },
  {
   "cell_type": "code",
   "execution_count": 26,
   "id": "99bca7f7-3dc0-4a19-b1d9-51cbccf615da",
   "metadata": {},
   "outputs": [
    {
     "data": {
      "text/html": [
       "<div>\n",
       "<style scoped>\n",
       "    .dataframe tbody tr th:only-of-type {\n",
       "        vertical-align: middle;\n",
       "    }\n",
       "\n",
       "    .dataframe tbody tr th {\n",
       "        vertical-align: top;\n",
       "    }\n",
       "\n",
       "    .dataframe thead th {\n",
       "        text-align: right;\n",
       "    }\n",
       "</style>\n",
       "<table border=\"1\" class=\"dataframe\">\n",
       "  <thead>\n",
       "    <tr style=\"text-align: right;\">\n",
       "      <th></th>\n",
       "      <th>Date</th>\n",
       "      <th>Country</th>\n",
       "      <th>Confirmed</th>\n",
       "      <th>Recovered</th>\n",
       "    </tr>\n",
       "  </thead>\n",
       "  <tbody>\n",
       "    <tr>\n",
       "      <th>0</th>\n",
       "      <td>2020-01-01</td>\n",
       "      <td>USA</td>\n",
       "      <td>9391</td>\n",
       "      <td>4101</td>\n",
       "    </tr>\n",
       "    <tr>\n",
       "      <th>1</th>\n",
       "      <td>2020-01-02</td>\n",
       "      <td>USA</td>\n",
       "      <td>9463</td>\n",
       "      <td>4136</td>\n",
       "    </tr>\n",
       "    <tr>\n",
       "      <th>2</th>\n",
       "      <td>2020-01-03</td>\n",
       "      <td>USA</td>\n",
       "      <td>9060</td>\n",
       "      <td>3682</td>\n",
       "    </tr>\n",
       "    <tr>\n",
       "      <th>3</th>\n",
       "      <td>2020-01-04</td>\n",
       "      <td>USA</td>\n",
       "      <td>8673</td>\n",
       "      <td>3886</td>\n",
       "    </tr>\n",
       "    <tr>\n",
       "      <th>4</th>\n",
       "      <td>2020-01-05</td>\n",
       "      <td>USA</td>\n",
       "      <td>9807</td>\n",
       "      <td>3490</td>\n",
       "    </tr>\n",
       "    <tr>\n",
       "      <th>...</th>\n",
       "      <td>...</td>\n",
       "      <td>...</td>\n",
       "      <td>...</td>\n",
       "      <td>...</td>\n",
       "    </tr>\n",
       "    <tr>\n",
       "      <th>1825</th>\n",
       "      <td>2020-12-27</td>\n",
       "      <td>UK</td>\n",
       "      <td>8532</td>\n",
       "      <td>3975</td>\n",
       "    </tr>\n",
       "    <tr>\n",
       "      <th>1826</th>\n",
       "      <td>2020-12-28</td>\n",
       "      <td>UK</td>\n",
       "      <td>8176</td>\n",
       "      <td>3638</td>\n",
       "    </tr>\n",
       "    <tr>\n",
       "      <th>1827</th>\n",
       "      <td>2020-12-29</td>\n",
       "      <td>UK</td>\n",
       "      <td>8891</td>\n",
       "      <td>4066</td>\n",
       "    </tr>\n",
       "    <tr>\n",
       "      <th>1828</th>\n",
       "      <td>2020-12-30</td>\n",
       "      <td>UK</td>\n",
       "      <td>8073</td>\n",
       "      <td>4251</td>\n",
       "    </tr>\n",
       "    <tr>\n",
       "      <th>1829</th>\n",
       "      <td>2020-12-31</td>\n",
       "      <td>UK</td>\n",
       "      <td>8063</td>\n",
       "      <td>4188</td>\n",
       "    </tr>\n",
       "  </tbody>\n",
       "</table>\n",
       "<p>1830 rows × 4 columns</p>\n",
       "</div>"
      ],
      "text/plain": [
       "            Date Country  Confirmed  Recovered\n",
       "0     2020-01-01     USA       9391       4101\n",
       "1     2020-01-02     USA       9463       4136\n",
       "2     2020-01-03     USA       9060       3682\n",
       "3     2020-01-04     USA       8673       3886\n",
       "4     2020-01-05     USA       9807       3490\n",
       "...          ...     ...        ...        ...\n",
       "1825  2020-12-27      UK       8532       3975\n",
       "1826  2020-12-28      UK       8176       3638\n",
       "1827  2020-12-29      UK       8891       4066\n",
       "1828  2020-12-30      UK       8073       4251\n",
       "1829  2020-12-31      UK       8063       4188\n",
       "\n",
       "[1830 rows x 4 columns]"
      ]
     },
     "execution_count": 26,
     "metadata": {},
     "output_type": "execute_result"
    }
   ],
   "source": [
    "my_df2.drop(\"Deaths\", axis=1, inplace=True)\n",
    "my_df2"
   ]
  },
  {
   "cell_type": "code",
   "execution_count": 31,
   "id": "5bc9d2f6-3023-41c5-a913-d4dc33327d16",
   "metadata": {},
   "outputs": [
    {
     "data": {
      "text/html": [
       "<div>\n",
       "<style scoped>\n",
       "    .dataframe tbody tr th:only-of-type {\n",
       "        vertical-align: middle;\n",
       "    }\n",
       "\n",
       "    .dataframe tbody tr th {\n",
       "        vertical-align: top;\n",
       "    }\n",
       "\n",
       "    .dataframe thead th {\n",
       "        text-align: right;\n",
       "    }\n",
       "</style>\n",
       "<table border=\"1\" class=\"dataframe\">\n",
       "  <thead>\n",
       "    <tr style=\"text-align: right;\">\n",
       "      <th></th>\n",
       "      <th>Date</th>\n",
       "      <th>Country</th>\n",
       "      <th>Confirmed</th>\n",
       "      <th>Recovered</th>\n",
       "    </tr>\n",
       "  </thead>\n",
       "  <tbody>\n",
       "    <tr>\n",
       "      <th>1</th>\n",
       "      <td>2020-01-02</td>\n",
       "      <td>USA</td>\n",
       "      <td>9463</td>\n",
       "      <td>4136</td>\n",
       "    </tr>\n",
       "    <tr>\n",
       "      <th>3</th>\n",
       "      <td>2020-01-04</td>\n",
       "      <td>USA</td>\n",
       "      <td>8673</td>\n",
       "      <td>3886</td>\n",
       "    </tr>\n",
       "    <tr>\n",
       "      <th>4</th>\n",
       "      <td>2020-01-05</td>\n",
       "      <td>USA</td>\n",
       "      <td>9807</td>\n",
       "      <td>3490</td>\n",
       "    </tr>\n",
       "    <tr>\n",
       "      <th>5</th>\n",
       "      <td>2020-01-06</td>\n",
       "      <td>USA</td>\n",
       "      <td>9487</td>\n",
       "      <td>4040</td>\n",
       "    </tr>\n",
       "    <tr>\n",
       "      <th>6</th>\n",
       "      <td>2020-01-07</td>\n",
       "      <td>USA</td>\n",
       "      <td>8394</td>\n",
       "      <td>3500</td>\n",
       "    </tr>\n",
       "    <tr>\n",
       "      <th>...</th>\n",
       "      <td>...</td>\n",
       "      <td>...</td>\n",
       "      <td>...</td>\n",
       "      <td>...</td>\n",
       "    </tr>\n",
       "    <tr>\n",
       "      <th>1825</th>\n",
       "      <td>2020-12-27</td>\n",
       "      <td>UK</td>\n",
       "      <td>8532</td>\n",
       "      <td>3975</td>\n",
       "    </tr>\n",
       "    <tr>\n",
       "      <th>1826</th>\n",
       "      <td>2020-12-28</td>\n",
       "      <td>UK</td>\n",
       "      <td>8176</td>\n",
       "      <td>3638</td>\n",
       "    </tr>\n",
       "    <tr>\n",
       "      <th>1827</th>\n",
       "      <td>2020-12-29</td>\n",
       "      <td>UK</td>\n",
       "      <td>8891</td>\n",
       "      <td>4066</td>\n",
       "    </tr>\n",
       "    <tr>\n",
       "      <th>1828</th>\n",
       "      <td>2020-12-30</td>\n",
       "      <td>UK</td>\n",
       "      <td>8073</td>\n",
       "      <td>4251</td>\n",
       "    </tr>\n",
       "    <tr>\n",
       "      <th>1829</th>\n",
       "      <td>2020-12-31</td>\n",
       "      <td>UK</td>\n",
       "      <td>8063</td>\n",
       "      <td>4188</td>\n",
       "    </tr>\n",
       "  </tbody>\n",
       "</table>\n",
       "<p>1828 rows × 4 columns</p>\n",
       "</div>"
      ],
      "text/plain": [
       "            Date Country  Confirmed  Recovered\n",
       "1     2020-01-02     USA       9463       4136\n",
       "3     2020-01-04     USA       8673       3886\n",
       "4     2020-01-05     USA       9807       3490\n",
       "5     2020-01-06     USA       9487       4040\n",
       "6     2020-01-07     USA       8394       3500\n",
       "...          ...     ...        ...        ...\n",
       "1825  2020-12-27      UK       8532       3975\n",
       "1826  2020-12-28      UK       8176       3638\n",
       "1827  2020-12-29      UK       8891       4066\n",
       "1828  2020-12-30      UK       8073       4251\n",
       "1829  2020-12-31      UK       8063       4188\n",
       "\n",
       "[1828 rows x 4 columns]"
      ]
     },
     "execution_count": 31,
     "metadata": {},
     "output_type": "execute_result"
    }
   ],
   "source": [
    "my_df2.drop([0,2], axis=0, inplace=True)\n",
    "my_df2"
   ]
  },
  {
   "cell_type": "code",
   "execution_count": 34,
   "id": "e78dcae7-626a-461d-b766-618d7af13f36",
   "metadata": {},
   "outputs": [],
   "source": [
    "import pandas as pd"
   ]
  },
  {
   "cell_type": "code",
   "execution_count": 35,
   "id": "90035d5f-9474-4299-8732-edd6ca76fd19",
   "metadata": {},
   "outputs": [
    {
     "data": {
      "text/html": [
       "<div>\n",
       "<style scoped>\n",
       "    .dataframe tbody tr th:only-of-type {\n",
       "        vertical-align: middle;\n",
       "    }\n",
       "\n",
       "    .dataframe tbody tr th {\n",
       "        vertical-align: top;\n",
       "    }\n",
       "\n",
       "    .dataframe thead th {\n",
       "        text-align: right;\n",
       "    }\n",
       "</style>\n",
       "<table border=\"1\" class=\"dataframe\">\n",
       "  <thead>\n",
       "    <tr style=\"text-align: right;\">\n",
       "      <th></th>\n",
       "      <th>Date</th>\n",
       "      <th>Country</th>\n",
       "      <th>Confirmed</th>\n",
       "      <th>Deaths</th>\n",
       "      <th>Recovered</th>\n",
       "    </tr>\n",
       "  </thead>\n",
       "  <tbody>\n",
       "    <tr>\n",
       "      <th>0</th>\n",
       "      <td>2020-01-01</td>\n",
       "      <td>USA</td>\n",
       "      <td>9391</td>\n",
       "      <td>148</td>\n",
       "      <td>4101</td>\n",
       "    </tr>\n",
       "    <tr>\n",
       "      <th>1</th>\n",
       "      <td>2020-01-02</td>\n",
       "      <td>USA</td>\n",
       "      <td>9463</td>\n",
       "      <td>135</td>\n",
       "      <td>4136</td>\n",
       "    </tr>\n",
       "    <tr>\n",
       "      <th>2</th>\n",
       "      <td>2020-01-03</td>\n",
       "      <td>USA</td>\n",
       "      <td>9060</td>\n",
       "      <td>115</td>\n",
       "      <td>3682</td>\n",
       "    </tr>\n",
       "    <tr>\n",
       "      <th>3</th>\n",
       "      <td>2020-01-04</td>\n",
       "      <td>USA</td>\n",
       "      <td>8673</td>\n",
       "      <td>99</td>\n",
       "      <td>3886</td>\n",
       "    </tr>\n",
       "    <tr>\n",
       "      <th>4</th>\n",
       "      <td>2020-01-05</td>\n",
       "      <td>USA</td>\n",
       "      <td>9807</td>\n",
       "      <td>93</td>\n",
       "      <td>3490</td>\n",
       "    </tr>\n",
       "  </tbody>\n",
       "</table>\n",
       "</div>"
      ],
      "text/plain": [
       "         Date Country  Confirmed  Deaths  Recovered\n",
       "0  2020-01-01     USA       9391     148       4101\n",
       "1  2020-01-02     USA       9463     135       4136\n",
       "2  2020-01-03     USA       9060     115       3682\n",
       "3  2020-01-04     USA       8673      99       3886\n",
       "4  2020-01-05     USA       9807      93       3490"
      ]
     },
     "execution_count": 35,
     "metadata": {},
     "output_type": "execute_result"
    }
   ],
   "source": [
    "my_df3=pd.read_csv(\"covid19_data.csv\")\n",
    "my_df3.head()"
   ]
  },
  {
   "cell_type": "code",
   "execution_count": 36,
   "id": "d358ad16-a6a7-427f-b1b3-545b17d10f17",
   "metadata": {},
   "outputs": [
    {
     "data": {
      "text/html": [
       "<div>\n",
       "<style scoped>\n",
       "    .dataframe tbody tr th:only-of-type {\n",
       "        vertical-align: middle;\n",
       "    }\n",
       "\n",
       "    .dataframe tbody tr th {\n",
       "        vertical-align: top;\n",
       "    }\n",
       "\n",
       "    .dataframe thead th {\n",
       "        text-align: right;\n",
       "    }\n",
       "</style>\n",
       "<table border=\"1\" class=\"dataframe\">\n",
       "  <thead>\n",
       "    <tr style=\"text-align: right;\">\n",
       "      <th></th>\n",
       "      <th>Date</th>\n",
       "      <th>Country</th>\n",
       "      <th>Confirmed</th>\n",
       "      <th>Deaths</th>\n",
       "      <th>Recovered</th>\n",
       "    </tr>\n",
       "  </thead>\n",
       "  <tbody>\n",
       "    <tr>\n",
       "      <th>668</th>\n",
       "      <td>2020-10-29</td>\n",
       "      <td>India</td>\n",
       "      <td>6163</td>\n",
       "      <td>431</td>\n",
       "      <td>2303</td>\n",
       "    </tr>\n",
       "    <tr>\n",
       "      <th>728</th>\n",
       "      <td>2020-12-28</td>\n",
       "      <td>India</td>\n",
       "      <td>6235</td>\n",
       "      <td>458</td>\n",
       "      <td>2315</td>\n",
       "    </tr>\n",
       "    <tr>\n",
       "      <th>630</th>\n",
       "      <td>2020-09-21</td>\n",
       "      <td>India</td>\n",
       "      <td>6261</td>\n",
       "      <td>486</td>\n",
       "      <td>2323</td>\n",
       "    </tr>\n",
       "    <tr>\n",
       "      <th>407</th>\n",
       "      <td>2020-02-11</td>\n",
       "      <td>India</td>\n",
       "      <td>6315</td>\n",
       "      <td>440</td>\n",
       "      <td>2325</td>\n",
       "    </tr>\n",
       "    <tr>\n",
       "      <th>623</th>\n",
       "      <td>2020-09-14</td>\n",
       "      <td>India</td>\n",
       "      <td>5942</td>\n",
       "      <td>462</td>\n",
       "      <td>2327</td>\n",
       "    </tr>\n",
       "  </tbody>\n",
       "</table>\n",
       "</div>"
      ],
      "text/plain": [
       "           Date Country  Confirmed  Deaths  Recovered\n",
       "668  2020-10-29   India       6163     431       2303\n",
       "728  2020-12-28   India       6235     458       2315\n",
       "630  2020-09-21   India       6261     486       2323\n",
       "407  2020-02-11   India       6315     440       2325\n",
       "623  2020-09-14   India       5942     462       2327"
      ]
     },
     "execution_count": 36,
     "metadata": {},
     "output_type": "execute_result"
    }
   ],
   "source": [
    "my_df3.sort_values(by=\"Recovered\", inplace=True, ascending=True)\n",
    "my_df3.head()"
   ]
  },
  {
   "cell_type": "code",
   "execution_count": 51,
   "id": "98f6282d-3f8c-4bcb-a793-dfb20f45aaad",
   "metadata": {},
   "outputs": [],
   "source": [
    "import pandas as pd "
   ]
  },
  {
   "cell_type": "code",
   "execution_count": 52,
   "id": "2bebd82b-cd9e-4f35-a5a9-b4317c747750",
   "metadata": {},
   "outputs": [
    {
     "data": {
      "text/html": [
       "<div>\n",
       "<style scoped>\n",
       "    .dataframe tbody tr th:only-of-type {\n",
       "        vertical-align: middle;\n",
       "    }\n",
       "\n",
       "    .dataframe tbody tr th {\n",
       "        vertical-align: top;\n",
       "    }\n",
       "\n",
       "    .dataframe thead th {\n",
       "        text-align: right;\n",
       "    }\n",
       "</style>\n",
       "<table border=\"1\" class=\"dataframe\">\n",
       "  <thead>\n",
       "    <tr style=\"text-align: right;\">\n",
       "      <th></th>\n",
       "      <th>Date</th>\n",
       "      <th>Country</th>\n",
       "      <th>Confirmed</th>\n",
       "      <th>Deaths</th>\n",
       "      <th>Recovered</th>\n",
       "    </tr>\n",
       "  </thead>\n",
       "  <tbody>\n",
       "    <tr>\n",
       "      <th>0</th>\n",
       "      <td>2020-01-01</td>\n",
       "      <td>USA</td>\n",
       "      <td>9391</td>\n",
       "      <td>148</td>\n",
       "      <td>4101</td>\n",
       "    </tr>\n",
       "    <tr>\n",
       "      <th>1</th>\n",
       "      <td>2020-01-02</td>\n",
       "      <td>USA</td>\n",
       "      <td>9463</td>\n",
       "      <td>135</td>\n",
       "      <td>4136</td>\n",
       "    </tr>\n",
       "    <tr>\n",
       "      <th>2</th>\n",
       "      <td>2020-01-03</td>\n",
       "      <td>USA</td>\n",
       "      <td>9060</td>\n",
       "      <td>115</td>\n",
       "      <td>3682</td>\n",
       "    </tr>\n",
       "    <tr>\n",
       "      <th>3</th>\n",
       "      <td>2020-01-04</td>\n",
       "      <td>USA</td>\n",
       "      <td>8673</td>\n",
       "      <td>99</td>\n",
       "      <td>3886</td>\n",
       "    </tr>\n",
       "    <tr>\n",
       "      <th>4</th>\n",
       "      <td>2020-01-05</td>\n",
       "      <td>USA</td>\n",
       "      <td>9807</td>\n",
       "      <td>93</td>\n",
       "      <td>3490</td>\n",
       "    </tr>\n",
       "  </tbody>\n",
       "</table>\n",
       "</div>"
      ],
      "text/plain": [
       "         Date Country  Confirmed  Deaths  Recovered\n",
       "0  2020-01-01     USA       9391     148       4101\n",
       "1  2020-01-02     USA       9463     135       4136\n",
       "2  2020-01-03     USA       9060     115       3682\n",
       "3  2020-01-04     USA       8673      99       3886\n",
       "4  2020-01-05     USA       9807      93       3490"
      ]
     },
     "execution_count": 52,
     "metadata": {},
     "output_type": "execute_result"
    }
   ],
   "source": [
    "my_df4=pd.read_csv(\"covid19_data.csv\")\n",
    "my_df4.head()"
   ]
  },
  {
   "cell_type": "code",
   "execution_count": 53,
   "id": "9c460faf-eb13-4d5a-9c63-519809f57f85",
   "metadata": {},
   "outputs": [
    {
     "data": {
      "text/html": [
       "<div>\n",
       "<style scoped>\n",
       "    .dataframe tbody tr th:only-of-type {\n",
       "        vertical-align: middle;\n",
       "    }\n",
       "\n",
       "    .dataframe tbody tr th {\n",
       "        vertical-align: top;\n",
       "    }\n",
       "\n",
       "    .dataframe thead th {\n",
       "        text-align: right;\n",
       "    }\n",
       "</style>\n",
       "<table border=\"1\" class=\"dataframe\">\n",
       "  <thead>\n",
       "    <tr style=\"text-align: right;\">\n",
       "      <th></th>\n",
       "      <th>Country</th>\n",
       "      <th>Confirmed</th>\n",
       "      <th>Deaths</th>\n",
       "      <th>Recovered</th>\n",
       "    </tr>\n",
       "    <tr>\n",
       "      <th>Date</th>\n",
       "      <th></th>\n",
       "      <th></th>\n",
       "      <th></th>\n",
       "      <th></th>\n",
       "    </tr>\n",
       "  </thead>\n",
       "  <tbody>\n",
       "    <tr>\n",
       "      <th>2020-01-01</th>\n",
       "      <td>USA</td>\n",
       "      <td>9391</td>\n",
       "      <td>148</td>\n",
       "      <td>4101</td>\n",
       "    </tr>\n",
       "    <tr>\n",
       "      <th>2020-01-02</th>\n",
       "      <td>USA</td>\n",
       "      <td>9463</td>\n",
       "      <td>135</td>\n",
       "      <td>4136</td>\n",
       "    </tr>\n",
       "    <tr>\n",
       "      <th>2020-01-03</th>\n",
       "      <td>USA</td>\n",
       "      <td>9060</td>\n",
       "      <td>115</td>\n",
       "      <td>3682</td>\n",
       "    </tr>\n",
       "    <tr>\n",
       "      <th>2020-01-04</th>\n",
       "      <td>USA</td>\n",
       "      <td>8673</td>\n",
       "      <td>99</td>\n",
       "      <td>3886</td>\n",
       "    </tr>\n",
       "    <tr>\n",
       "      <th>2020-01-05</th>\n",
       "      <td>USA</td>\n",
       "      <td>9807</td>\n",
       "      <td>93</td>\n",
       "      <td>3490</td>\n",
       "    </tr>\n",
       "  </tbody>\n",
       "</table>\n",
       "</div>"
      ],
      "text/plain": [
       "           Country  Confirmed  Deaths  Recovered\n",
       "Date                                            \n",
       "2020-01-01     USA       9391     148       4101\n",
       "2020-01-02     USA       9463     135       4136\n",
       "2020-01-03     USA       9060     115       3682\n",
       "2020-01-04     USA       8673      99       3886\n",
       "2020-01-05     USA       9807      93       3490"
      ]
     },
     "execution_count": 53,
     "metadata": {},
     "output_type": "execute_result"
    }
   ],
   "source": [
    "my_df4=pd.read_csv(\"covid19_data.csv\",index_col=0)\n",
    "my_df4.head()"
   ]
  },
  {
   "cell_type": "code",
   "execution_count": 54,
   "id": "ae1879fa-71f6-40c1-b359-90a9e8cfdb3d",
   "metadata": {},
   "outputs": [
    {
     "data": {
      "text/plain": [
       "Country      object\n",
       "Confirmed     int64\n",
       "Deaths        int64\n",
       "Recovered     int64\n",
       "dtype: object"
      ]
     },
     "execution_count": 54,
     "metadata": {},
     "output_type": "execute_result"
    }
   ],
   "source": [
    "my_df4.dtypes"
   ]
  },
  {
   "cell_type": "code",
   "execution_count": 55,
   "id": "25a890f6-c8be-427a-82ad-12e8b32587f0",
   "metadata": {},
   "outputs": [],
   "source": [
    "import pandas as pd "
   ]
  },
  {
   "cell_type": "code",
   "execution_count": 70,
   "id": "d0411a6a-21c4-4774-bac9-cf5562aeb9a3",
   "metadata": {},
   "outputs": [
    {
     "data": {
      "text/html": [
       "<div>\n",
       "<style scoped>\n",
       "    .dataframe tbody tr th:only-of-type {\n",
       "        vertical-align: middle;\n",
       "    }\n",
       "\n",
       "    .dataframe tbody tr th {\n",
       "        vertical-align: top;\n",
       "    }\n",
       "\n",
       "    .dataframe thead th {\n",
       "        text-align: right;\n",
       "    }\n",
       "</style>\n",
       "<table border=\"1\" class=\"dataframe\">\n",
       "  <thead>\n",
       "    <tr style=\"text-align: right;\">\n",
       "      <th></th>\n",
       "      <th>Date</th>\n",
       "      <th>Country</th>\n",
       "      <th>Confirmed</th>\n",
       "      <th>Deaths</th>\n",
       "      <th>Recovered</th>\n",
       "    </tr>\n",
       "  </thead>\n",
       "  <tbody>\n",
       "    <tr>\n",
       "      <th>0</th>\n",
       "      <td>2020-01-01</td>\n",
       "      <td>USA</td>\n",
       "      <td>9391</td>\n",
       "      <td>148</td>\n",
       "      <td>4101</td>\n",
       "    </tr>\n",
       "    <tr>\n",
       "      <th>1</th>\n",
       "      <td>2020-01-02</td>\n",
       "      <td>USA</td>\n",
       "      <td>9463</td>\n",
       "      <td>135</td>\n",
       "      <td>4136</td>\n",
       "    </tr>\n",
       "    <tr>\n",
       "      <th>2</th>\n",
       "      <td>2020-01-03</td>\n",
       "      <td>USA</td>\n",
       "      <td>9060</td>\n",
       "      <td>115</td>\n",
       "      <td>3682</td>\n",
       "    </tr>\n",
       "    <tr>\n",
       "      <th>3</th>\n",
       "      <td>2020-01-04</td>\n",
       "      <td>USA</td>\n",
       "      <td>8673</td>\n",
       "      <td>99</td>\n",
       "      <td>3886</td>\n",
       "    </tr>\n",
       "    <tr>\n",
       "      <th>4</th>\n",
       "      <td>2020-01-05</td>\n",
       "      <td>USA</td>\n",
       "      <td>9807</td>\n",
       "      <td>93</td>\n",
       "      <td>3490</td>\n",
       "    </tr>\n",
       "  </tbody>\n",
       "</table>\n",
       "</div>"
      ],
      "text/plain": [
       "         Date Country  Confirmed  Deaths  Recovered\n",
       "0  2020-01-01     USA       9391     148       4101\n",
       "1  2020-01-02     USA       9463     135       4136\n",
       "2  2020-01-03     USA       9060     115       3682\n",
       "3  2020-01-04     USA       8673      99       3886\n",
       "4  2020-01-05     USA       9807      93       3490"
      ]
     },
     "execution_count": 70,
     "metadata": {},
     "output_type": "execute_result"
    }
   ],
   "source": [
    "my_df8=pd.read_csv(\"covid19_data.csv\")\n",
    "my_df8.head()"
   ]
  },
  {
   "cell_type": "code",
   "execution_count": 71,
   "id": "b99664c7-3daf-44e0-a067-bba87d5e1974",
   "metadata": {},
   "outputs": [
    {
     "data": {
      "text/plain": [
       "Index(['Date', 'Country', 'Confirmed', 'Deaths', 'Recovered'], dtype='object')"
      ]
     },
     "execution_count": 71,
     "metadata": {},
     "output_type": "execute_result"
    }
   ],
   "source": [
    "my_df8.columns"
   ]
  },
  {
   "cell_type": "code",
   "execution_count": 74,
   "id": "ffe886af-d224-4b28-aec0-1b0218422d77",
   "metadata": {},
   "outputs": [
    {
     "data": {
      "text/html": [
       "<div>\n",
       "<style scoped>\n",
       "    .dataframe tbody tr th:only-of-type {\n",
       "        vertical-align: middle;\n",
       "    }\n",
       "\n",
       "    .dataframe tbody tr th {\n",
       "        vertical-align: top;\n",
       "    }\n",
       "\n",
       "    .dataframe thead th {\n",
       "        text-align: right;\n",
       "    }\n",
       "</style>\n",
       "<table border=\"1\" class=\"dataframe\">\n",
       "  <thead>\n",
       "    <tr style=\"text-align: right;\">\n",
       "      <th></th>\n",
       "      <th>Date</th>\n",
       "      <th>Countires</th>\n",
       "      <th>Confirmed</th>\n",
       "      <th>Deaths</th>\n",
       "      <th>Recovered</th>\n",
       "    </tr>\n",
       "  </thead>\n",
       "  <tbody>\n",
       "    <tr>\n",
       "      <th>0</th>\n",
       "      <td>2020-01-01</td>\n",
       "      <td>USA</td>\n",
       "      <td>9391</td>\n",
       "      <td>148</td>\n",
       "      <td>4101</td>\n",
       "    </tr>\n",
       "    <tr>\n",
       "      <th>1</th>\n",
       "      <td>2020-01-02</td>\n",
       "      <td>USA</td>\n",
       "      <td>9463</td>\n",
       "      <td>135</td>\n",
       "      <td>4136</td>\n",
       "    </tr>\n",
       "    <tr>\n",
       "      <th>2</th>\n",
       "      <td>2020-01-03</td>\n",
       "      <td>USA</td>\n",
       "      <td>9060</td>\n",
       "      <td>115</td>\n",
       "      <td>3682</td>\n",
       "    </tr>\n",
       "    <tr>\n",
       "      <th>3</th>\n",
       "      <td>2020-01-04</td>\n",
       "      <td>USA</td>\n",
       "      <td>8673</td>\n",
       "      <td>99</td>\n",
       "      <td>3886</td>\n",
       "    </tr>\n",
       "    <tr>\n",
       "      <th>4</th>\n",
       "      <td>2020-01-05</td>\n",
       "      <td>USA</td>\n",
       "      <td>9807</td>\n",
       "      <td>93</td>\n",
       "      <td>3490</td>\n",
       "    </tr>\n",
       "    <tr>\n",
       "      <th>...</th>\n",
       "      <td>...</td>\n",
       "      <td>...</td>\n",
       "      <td>...</td>\n",
       "      <td>...</td>\n",
       "      <td>...</td>\n",
       "    </tr>\n",
       "    <tr>\n",
       "      <th>1825</th>\n",
       "      <td>2020-12-27</td>\n",
       "      <td>UK</td>\n",
       "      <td>8532</td>\n",
       "      <td>388</td>\n",
       "      <td>3975</td>\n",
       "    </tr>\n",
       "    <tr>\n",
       "      <th>1826</th>\n",
       "      <td>2020-12-28</td>\n",
       "      <td>UK</td>\n",
       "      <td>8176</td>\n",
       "      <td>371</td>\n",
       "      <td>3638</td>\n",
       "    </tr>\n",
       "    <tr>\n",
       "      <th>1827</th>\n",
       "      <td>2020-12-29</td>\n",
       "      <td>UK</td>\n",
       "      <td>8891</td>\n",
       "      <td>398</td>\n",
       "      <td>4066</td>\n",
       "    </tr>\n",
       "    <tr>\n",
       "      <th>1828</th>\n",
       "      <td>2020-12-30</td>\n",
       "      <td>UK</td>\n",
       "      <td>8073</td>\n",
       "      <td>410</td>\n",
       "      <td>4251</td>\n",
       "    </tr>\n",
       "    <tr>\n",
       "      <th>1829</th>\n",
       "      <td>2020-12-31</td>\n",
       "      <td>UK</td>\n",
       "      <td>8063</td>\n",
       "      <td>398</td>\n",
       "      <td>4188</td>\n",
       "    </tr>\n",
       "  </tbody>\n",
       "</table>\n",
       "<p>1830 rows × 5 columns</p>\n",
       "</div>"
      ],
      "text/plain": [
       "            Date Countires  Confirmed  Deaths  Recovered\n",
       "0     2020-01-01       USA       9391     148       4101\n",
       "1     2020-01-02       USA       9463     135       4136\n",
       "2     2020-01-03       USA       9060     115       3682\n",
       "3     2020-01-04       USA       8673      99       3886\n",
       "4     2020-01-05       USA       9807      93       3490\n",
       "...          ...       ...        ...     ...        ...\n",
       "1825  2020-12-27        UK       8532     388       3975\n",
       "1826  2020-12-28        UK       8176     371       3638\n",
       "1827  2020-12-29        UK       8891     398       4066\n",
       "1828  2020-12-30        UK       8073     410       4251\n",
       "1829  2020-12-31        UK       8063     398       4188\n",
       "\n",
       "[1830 rows x 5 columns]"
      ]
     },
     "execution_count": 74,
     "metadata": {},
     "output_type": "execute_result"
    }
   ],
   "source": [
    "my_df8.rename(columns={\"Country\":\"Countires\",\"Confirmed\":\"Confirmed\"},inplace= False)"
   ]
  },
  {
   "cell_type": "code",
   "execution_count": 76,
   "id": "8941b002-4398-41b2-ab6c-3001cda97513",
   "metadata": {},
   "outputs": [
    {
     "data": {
      "text/html": [
       "<div>\n",
       "<style scoped>\n",
       "    .dataframe tbody tr th:only-of-type {\n",
       "        vertical-align: middle;\n",
       "    }\n",
       "\n",
       "    .dataframe tbody tr th {\n",
       "        vertical-align: top;\n",
       "    }\n",
       "\n",
       "    .dataframe thead th {\n",
       "        text-align: right;\n",
       "    }\n",
       "</style>\n",
       "<table border=\"1\" class=\"dataframe\">\n",
       "  <thead>\n",
       "    <tr style=\"text-align: right;\">\n",
       "      <th></th>\n",
       "      <th>Date</th>\n",
       "      <th>Country</th>\n",
       "      <th>Confirmed</th>\n",
       "      <th>Deaths</th>\n",
       "      <th>Recovered</th>\n",
       "    </tr>\n",
       "  </thead>\n",
       "  <tbody>\n",
       "    <tr>\n",
       "      <th>0</th>\n",
       "      <td>2020-01-01</td>\n",
       "      <td>USA</td>\n",
       "      <td>9391</td>\n",
       "      <td>148</td>\n",
       "      <td>4101</td>\n",
       "    </tr>\n",
       "    <tr>\n",
       "      <th>1</th>\n",
       "      <td>2020-01-02</td>\n",
       "      <td>USA</td>\n",
       "      <td>9463</td>\n",
       "      <td>135</td>\n",
       "      <td>4136</td>\n",
       "    </tr>\n",
       "    <tr>\n",
       "      <th>2</th>\n",
       "      <td>2020-01-03</td>\n",
       "      <td>USA</td>\n",
       "      <td>9060</td>\n",
       "      <td>115</td>\n",
       "      <td>3682</td>\n",
       "    </tr>\n",
       "    <tr>\n",
       "      <th>3</th>\n",
       "      <td>2020-01-04</td>\n",
       "      <td>USA</td>\n",
       "      <td>8673</td>\n",
       "      <td>99</td>\n",
       "      <td>3886</td>\n",
       "    </tr>\n",
       "    <tr>\n",
       "      <th>4</th>\n",
       "      <td>2020-01-05</td>\n",
       "      <td>USA</td>\n",
       "      <td>9807</td>\n",
       "      <td>93</td>\n",
       "      <td>3490</td>\n",
       "    </tr>\n",
       "  </tbody>\n",
       "</table>\n",
       "</div>"
      ],
      "text/plain": [
       "         Date Country  Confirmed  Deaths  Recovered\n",
       "0  2020-01-01     USA       9391     148       4101\n",
       "1  2020-01-02     USA       9463     135       4136\n",
       "2  2020-01-03     USA       9060     115       3682\n",
       "3  2020-01-04     USA       8673      99       3886\n",
       "4  2020-01-05     USA       9807      93       3490"
      ]
     },
     "execution_count": 76,
     "metadata": {},
     "output_type": "execute_result"
    }
   ],
   "source": [
    "my_df8.head()"
   ]
  },
  {
   "cell_type": "code",
   "execution_count": 85,
   "id": "7e5d4e33-48d9-4680-8f9b-50c2dbc685a6",
   "metadata": {},
   "outputs": [],
   "source": [
    "my_df8[\"Name\"]= my_df8.index"
   ]
  },
  {
   "cell_type": "code",
   "execution_count": 86,
   "id": "d78c9c06-f557-4fd8-9595-94e171fb59d5",
   "metadata": {},
   "outputs": [
    {
     "data": {
      "text/html": [
       "<div>\n",
       "<style scoped>\n",
       "    .dataframe tbody tr th:only-of-type {\n",
       "        vertical-align: middle;\n",
       "    }\n",
       "\n",
       "    .dataframe tbody tr th {\n",
       "        vertical-align: top;\n",
       "    }\n",
       "\n",
       "    .dataframe thead th {\n",
       "        text-align: right;\n",
       "    }\n",
       "</style>\n",
       "<table border=\"1\" class=\"dataframe\">\n",
       "  <thead>\n",
       "    <tr style=\"text-align: right;\">\n",
       "      <th></th>\n",
       "      <th>Date</th>\n",
       "      <th>Country</th>\n",
       "      <th>Confirmed</th>\n",
       "      <th>Deaths</th>\n",
       "      <th>Recovered</th>\n",
       "    </tr>\n",
       "    <tr>\n",
       "      <th>Name</th>\n",
       "      <th></th>\n",
       "      <th></th>\n",
       "      <th></th>\n",
       "      <th></th>\n",
       "      <th></th>\n",
       "    </tr>\n",
       "  </thead>\n",
       "  <tbody>\n",
       "    <tr>\n",
       "      <th>0</th>\n",
       "      <td>2020-01-01</td>\n",
       "      <td>USA</td>\n",
       "      <td>9391</td>\n",
       "      <td>148</td>\n",
       "      <td>4101</td>\n",
       "    </tr>\n",
       "    <tr>\n",
       "      <th>1</th>\n",
       "      <td>2020-01-02</td>\n",
       "      <td>USA</td>\n",
       "      <td>9463</td>\n",
       "      <td>135</td>\n",
       "      <td>4136</td>\n",
       "    </tr>\n",
       "    <tr>\n",
       "      <th>2</th>\n",
       "      <td>2020-01-03</td>\n",
       "      <td>USA</td>\n",
       "      <td>9060</td>\n",
       "      <td>115</td>\n",
       "      <td>3682</td>\n",
       "    </tr>\n",
       "    <tr>\n",
       "      <th>3</th>\n",
       "      <td>2020-01-04</td>\n",
       "      <td>USA</td>\n",
       "      <td>8673</td>\n",
       "      <td>99</td>\n",
       "      <td>3886</td>\n",
       "    </tr>\n",
       "    <tr>\n",
       "      <th>4</th>\n",
       "      <td>2020-01-05</td>\n",
       "      <td>USA</td>\n",
       "      <td>9807</td>\n",
       "      <td>93</td>\n",
       "      <td>3490</td>\n",
       "    </tr>\n",
       "    <tr>\n",
       "      <th>...</th>\n",
       "      <td>...</td>\n",
       "      <td>...</td>\n",
       "      <td>...</td>\n",
       "      <td>...</td>\n",
       "      <td>...</td>\n",
       "    </tr>\n",
       "    <tr>\n",
       "      <th>1825</th>\n",
       "      <td>2020-12-27</td>\n",
       "      <td>UK</td>\n",
       "      <td>8532</td>\n",
       "      <td>388</td>\n",
       "      <td>3975</td>\n",
       "    </tr>\n",
       "    <tr>\n",
       "      <th>1826</th>\n",
       "      <td>2020-12-28</td>\n",
       "      <td>UK</td>\n",
       "      <td>8176</td>\n",
       "      <td>371</td>\n",
       "      <td>3638</td>\n",
       "    </tr>\n",
       "    <tr>\n",
       "      <th>1827</th>\n",
       "      <td>2020-12-29</td>\n",
       "      <td>UK</td>\n",
       "      <td>8891</td>\n",
       "      <td>398</td>\n",
       "      <td>4066</td>\n",
       "    </tr>\n",
       "    <tr>\n",
       "      <th>1828</th>\n",
       "      <td>2020-12-30</td>\n",
       "      <td>UK</td>\n",
       "      <td>8073</td>\n",
       "      <td>410</td>\n",
       "      <td>4251</td>\n",
       "    </tr>\n",
       "    <tr>\n",
       "      <th>1829</th>\n",
       "      <td>2020-12-31</td>\n",
       "      <td>UK</td>\n",
       "      <td>8063</td>\n",
       "      <td>398</td>\n",
       "      <td>4188</td>\n",
       "    </tr>\n",
       "  </tbody>\n",
       "</table>\n",
       "<p>1830 rows × 5 columns</p>\n",
       "</div>"
      ],
      "text/plain": [
       "            Date Country  Confirmed  Deaths  Recovered\n",
       "Name                                                  \n",
       "0     2020-01-01     USA       9391     148       4101\n",
       "1     2020-01-02     USA       9463     135       4136\n",
       "2     2020-01-03     USA       9060     115       3682\n",
       "3     2020-01-04     USA       8673      99       3886\n",
       "4     2020-01-05     USA       9807      93       3490\n",
       "...          ...     ...        ...     ...        ...\n",
       "1825  2020-12-27      UK       8532     388       3975\n",
       "1826  2020-12-28      UK       8176     371       3638\n",
       "1827  2020-12-29      UK       8891     398       4066\n",
       "1828  2020-12-30      UK       8073     410       4251\n",
       "1829  2020-12-31      UK       8063     398       4188\n",
       "\n",
       "[1830 rows x 5 columns]"
      ]
     },
     "execution_count": 86,
     "metadata": {},
     "output_type": "execute_result"
    }
   ],
   "source": [
    "my_df8.set_index(\"Name\", inplace=True)\n",
    "my_df8"
   ]
  },
  {
   "cell_type": "code",
   "execution_count": 87,
   "id": "c58f9a37-edae-4815-8e96-586ca32b7104",
   "metadata": {},
   "outputs": [],
   "source": [
    "import pandas as pd "
   ]
  },
  {
   "cell_type": "code",
   "execution_count": 89,
   "id": "d61113e5-e92f-40f4-ae46-e7369fa6e73d",
   "metadata": {},
   "outputs": [
    {
     "data": {
      "text/html": [
       "<div>\n",
       "<style scoped>\n",
       "    .dataframe tbody tr th:only-of-type {\n",
       "        vertical-align: middle;\n",
       "    }\n",
       "\n",
       "    .dataframe tbody tr th {\n",
       "        vertical-align: top;\n",
       "    }\n",
       "\n",
       "    .dataframe thead th {\n",
       "        text-align: right;\n",
       "    }\n",
       "</style>\n",
       "<table border=\"1\" class=\"dataframe\">\n",
       "  <thead>\n",
       "    <tr style=\"text-align: right;\">\n",
       "      <th></th>\n",
       "      <th>Date</th>\n",
       "      <th>Country</th>\n",
       "      <th>Confirmed</th>\n",
       "      <th>Deaths</th>\n",
       "      <th>Recovered</th>\n",
       "    </tr>\n",
       "  </thead>\n",
       "  <tbody>\n",
       "    <tr>\n",
       "      <th>0</th>\n",
       "      <td>2020-01-01</td>\n",
       "      <td>USA</td>\n",
       "      <td>9391</td>\n",
       "      <td>148</td>\n",
       "      <td>4101</td>\n",
       "    </tr>\n",
       "    <tr>\n",
       "      <th>1</th>\n",
       "      <td>2020-01-02</td>\n",
       "      <td>USA</td>\n",
       "      <td>9463</td>\n",
       "      <td>135</td>\n",
       "      <td>4136</td>\n",
       "    </tr>\n",
       "    <tr>\n",
       "      <th>2</th>\n",
       "      <td>2020-01-03</td>\n",
       "      <td>USA</td>\n",
       "      <td>9060</td>\n",
       "      <td>115</td>\n",
       "      <td>3682</td>\n",
       "    </tr>\n",
       "    <tr>\n",
       "      <th>3</th>\n",
       "      <td>2020-01-04</td>\n",
       "      <td>USA</td>\n",
       "      <td>8673</td>\n",
       "      <td>99</td>\n",
       "      <td>3886</td>\n",
       "    </tr>\n",
       "    <tr>\n",
       "      <th>4</th>\n",
       "      <td>2020-01-05</td>\n",
       "      <td>USA</td>\n",
       "      <td>9807</td>\n",
       "      <td>93</td>\n",
       "      <td>3490</td>\n",
       "    </tr>\n",
       "  </tbody>\n",
       "</table>\n",
       "</div>"
      ],
      "text/plain": [
       "         Date Country  Confirmed  Deaths  Recovered\n",
       "0  2020-01-01     USA       9391     148       4101\n",
       "1  2020-01-02     USA       9463     135       4136\n",
       "2  2020-01-03     USA       9060     115       3682\n",
       "3  2020-01-04     USA       8673      99       3886\n",
       "4  2020-01-05     USA       9807      93       3490"
      ]
     },
     "execution_count": 89,
     "metadata": {},
     "output_type": "execute_result"
    }
   ],
   "source": [
    "df_missing =pd.read_csv(\"covid19_data.csv\")\n",
    "df_missing.head()"
   ]
  },
  {
   "cell_type": "code",
   "execution_count": 91,
   "id": "8e6ffaa7-4e0a-45d5-b766-1b00772d3e7a",
   "metadata": {},
   "outputs": [
    {
     "data": {
      "text/plain": [
       "Date         object\n",
       "Country      object\n",
       "Confirmed     int64\n",
       "Deaths        int64\n",
       "Recovered     int64\n",
       "dtype: object"
      ]
     },
     "execution_count": 91,
     "metadata": {},
     "output_type": "execute_result"
    }
   ],
   "source": [
    "df_missing.dtypes"
   ]
  },
  {
   "cell_type": "code",
   "execution_count": 93,
   "id": "cae6ea0c-d9af-4d69-853c-397b6dcb59c5",
   "metadata": {},
   "outputs": [
    {
     "data": {
      "text/html": [
       "<div>\n",
       "<style scoped>\n",
       "    .dataframe tbody tr th:only-of-type {\n",
       "        vertical-align: middle;\n",
       "    }\n",
       "\n",
       "    .dataframe tbody tr th {\n",
       "        vertical-align: top;\n",
       "    }\n",
       "\n",
       "    .dataframe thead th {\n",
       "        text-align: right;\n",
       "    }\n",
       "</style>\n",
       "<table border=\"1\" class=\"dataframe\">\n",
       "  <thead>\n",
       "    <tr style=\"text-align: right;\">\n",
       "      <th></th>\n",
       "      <th>Date</th>\n",
       "      <th>Country</th>\n",
       "      <th>Confirmed</th>\n",
       "      <th>Deaths</th>\n",
       "      <th>Recovered</th>\n",
       "    </tr>\n",
       "  </thead>\n",
       "  <tbody>\n",
       "    <tr>\n",
       "      <th>0</th>\n",
       "      <td>False</td>\n",
       "      <td>False</td>\n",
       "      <td>False</td>\n",
       "      <td>False</td>\n",
       "      <td>False</td>\n",
       "    </tr>\n",
       "    <tr>\n",
       "      <th>1</th>\n",
       "      <td>False</td>\n",
       "      <td>False</td>\n",
       "      <td>False</td>\n",
       "      <td>False</td>\n",
       "      <td>False</td>\n",
       "    </tr>\n",
       "    <tr>\n",
       "      <th>2</th>\n",
       "      <td>False</td>\n",
       "      <td>False</td>\n",
       "      <td>False</td>\n",
       "      <td>False</td>\n",
       "      <td>False</td>\n",
       "    </tr>\n",
       "    <tr>\n",
       "      <th>3</th>\n",
       "      <td>False</td>\n",
       "      <td>False</td>\n",
       "      <td>False</td>\n",
       "      <td>False</td>\n",
       "      <td>False</td>\n",
       "    </tr>\n",
       "    <tr>\n",
       "      <th>4</th>\n",
       "      <td>False</td>\n",
       "      <td>False</td>\n",
       "      <td>False</td>\n",
       "      <td>False</td>\n",
       "      <td>False</td>\n",
       "    </tr>\n",
       "    <tr>\n",
       "      <th>...</th>\n",
       "      <td>...</td>\n",
       "      <td>...</td>\n",
       "      <td>...</td>\n",
       "      <td>...</td>\n",
       "      <td>...</td>\n",
       "    </tr>\n",
       "    <tr>\n",
       "      <th>1825</th>\n",
       "      <td>False</td>\n",
       "      <td>False</td>\n",
       "      <td>False</td>\n",
       "      <td>False</td>\n",
       "      <td>False</td>\n",
       "    </tr>\n",
       "    <tr>\n",
       "      <th>1826</th>\n",
       "      <td>False</td>\n",
       "      <td>False</td>\n",
       "      <td>False</td>\n",
       "      <td>False</td>\n",
       "      <td>False</td>\n",
       "    </tr>\n",
       "    <tr>\n",
       "      <th>1827</th>\n",
       "      <td>False</td>\n",
       "      <td>False</td>\n",
       "      <td>False</td>\n",
       "      <td>False</td>\n",
       "      <td>False</td>\n",
       "    </tr>\n",
       "    <tr>\n",
       "      <th>1828</th>\n",
       "      <td>False</td>\n",
       "      <td>False</td>\n",
       "      <td>False</td>\n",
       "      <td>False</td>\n",
       "      <td>False</td>\n",
       "    </tr>\n",
       "    <tr>\n",
       "      <th>1829</th>\n",
       "      <td>False</td>\n",
       "      <td>False</td>\n",
       "      <td>False</td>\n",
       "      <td>False</td>\n",
       "      <td>False</td>\n",
       "    </tr>\n",
       "  </tbody>\n",
       "</table>\n",
       "<p>1830 rows × 5 columns</p>\n",
       "</div>"
      ],
      "text/plain": [
       "       Date  Country  Confirmed  Deaths  Recovered\n",
       "0     False    False      False   False      False\n",
       "1     False    False      False   False      False\n",
       "2     False    False      False   False      False\n",
       "3     False    False      False   False      False\n",
       "4     False    False      False   False      False\n",
       "...     ...      ...        ...     ...        ...\n",
       "1825  False    False      False   False      False\n",
       "1826  False    False      False   False      False\n",
       "1827  False    False      False   False      False\n",
       "1828  False    False      False   False      False\n",
       "1829  False    False      False   False      False\n",
       "\n",
       "[1830 rows x 5 columns]"
      ]
     },
     "execution_count": 93,
     "metadata": {},
     "output_type": "execute_result"
    }
   ],
   "source": [
    "df_missing.isnull()"
   ]
  },
  {
   "cell_type": "code",
   "execution_count": 100,
   "id": "4f71821d-157f-4a14-bc15-40bb5c52bf13",
   "metadata": {},
   "outputs": [],
   "source": [
    "import numpy as np"
   ]
  },
  {
   "cell_type": "code",
   "execution_count": 103,
   "id": "1733fbe3-92f3-4508-a25c-2167befe93d6",
   "metadata": {},
   "outputs": [
    {
     "name": "stdout",
     "output_type": "stream",
     "text": [
      "[6 7 5 8 0 1]\n",
      "int32\n",
      "(6,)\n",
      "1\n"
     ]
    }
   ],
   "source": [
    "data1=[6,7,5,8,0,1]\n",
    "arr1=np.array(data1)\n",
    "print(arr1)\n",
    "print(arr1.dtype)\n",
    "print(arr1.shape)\n",
    "print(arr1.ndim)"
   ]
  },
  {
   "cell_type": "raw",
   "id": "c6b8dea4-a490-44ac-8b07-6b1f8b058811",
   "metadata": {},
   "source": [
    "import numpy as np "
   ]
  },
  {
   "cell_type": "code",
   "execution_count": 104,
   "id": "ef1b0068-837f-4ae8-949b-844ede31f1b1",
   "metadata": {},
   "outputs": [
    {
     "name": "stdout",
     "output_type": "stream",
     "text": [
      "2\n",
      "(2, 4)\n"
     ]
    }
   ],
   "source": [
    "data2=[[1,2,3,4],[5,6,7,8]]\n",
    "arr2=np.array(data2)\n",
    "print(arr2.ndim)\n",
    "print(arr2.shape)"
   ]
  },
  {
   "cell_type": "code",
   "execution_count": 113,
   "id": "e8732a17-16d4-4925-9a5a-4998c858f0ee",
   "metadata": {},
   "outputs": [],
   "source": [
    "array=np.eye(3,dtype=int)"
   ]
  },
  {
   "cell_type": "code",
   "execution_count": 112,
   "id": "63fff2cf-0bd7-45b3-914e-27e09c3a4c1c",
   "metadata": {},
   "outputs": [
    {
     "name": "stdout",
     "output_type": "stream",
     "text": [
      "[[1. 2. 3.]\n",
      " [4. 5. 6.]]\n",
      "[[ 1.  4.  9.]\n",
      " [16. 25. 36.]]\n",
      "[[0. 0. 0.]\n",
      " [0. 0. 0.]]\n"
     ]
    }
   ],
   "source": [
    "arr=np.array([[1.,2.,3.],[4.,5.,6.]])\n",
    "print(arr)\n",
    "print(arr*arr)\n",
    "print(arr-arr)"
   ]
  },
  {
   "cell_type": "code",
   "execution_count": 114,
   "id": "bb40fb24-e39c-42c7-a64d-c6cf08966a3f",
   "metadata": {},
   "outputs": [
    {
     "data": {
      "text/plain": [
       "array(<class 'list'>, dtype=object)"
      ]
     },
     "execution_count": 114,
     "metadata": {},
     "output_type": "execute_result"
    }
   ],
   "source": [
    "np.array(list)"
   ]
  },
  {
   "cell_type": "code",
   "execution_count": 115,
   "id": "d2cb0e55-8e46-4a39-acfd-b69b2ca9a874",
   "metadata": {},
   "outputs": [],
   "source": [
    "arr=np.array([[1.,2.,3.],[4.,5.,6.]])"
   ]
  },
  {
   "cell_type": "code",
   "execution_count": 116,
   "id": "5560ec70-5e32-4e16-9cd8-9acb5b806760",
   "metadata": {},
   "outputs": [
    {
     "name": "stdout",
     "output_type": "stream",
     "text": [
      "[[1. 2. 3.]\n",
      " [4. 5. 6.]]\n",
      "[[ 1.  4.  9.]\n",
      " [16. 25. 36.]]\n"
     ]
    }
   ],
   "source": [
    "print(arr)\n",
    "print(arr**2)"
   ]
  },
  {
   "cell_type": "code",
   "execution_count": 117,
   "id": "1070ea0d-b716-4693-8d44-7c013c66e248",
   "metadata": {},
   "outputs": [
    {
     "name": "stdout",
     "output_type": "stream",
     "text": [
      "[[ 0.  4.  1.]\n",
      " [ 7.  2. 12.]]\n",
      "[[False  True False]\n",
      " [ True False  True]]\n"
     ]
    }
   ],
   "source": [
    "arr2=np.array([[0.,4.,1.],[7.,2.,12]])\n",
    "print(arr2)\n",
    "print(arr2>arr)"
   ]
  },
  {
   "cell_type": "code",
   "execution_count": 122,
   "id": "ce5d4fce-cd9c-4575-a695-48697034bb3b",
   "metadata": {},
   "outputs": [
    {
     "name": "stdout",
     "output_type": "stream",
     "text": [
      "[0 1 2 3 4 5 6 7 8 9]\n",
      "5\n",
      "[5 6 7]\n",
      "[ 0  1  2  3  4 12 12 12  8  9]\n"
     ]
    }
   ],
   "source": [
    "arr =np.arange(10)\n",
    "print(arr)\n",
    "print(arr[5])\n",
    "print(arr[5:8])\n",
    "arr[5:8]=12\n",
    "print(arr)"
   ]
  },
  {
   "cell_type": "code",
   "execution_count": 123,
   "id": "4c7fa2d2-f524-44d2-bcce-47728f0790e7",
   "metadata": {},
   "outputs": [
    {
     "name": "stdout",
     "output_type": "stream",
     "text": [
      "[0 1 2 3 4 5 6 7 8 9]\n",
      "[5 6 7]\n",
      "[    0     1     2     3     4     5 12345     7     8     9]\n",
      "[ 0  1  2  3  4 64 64 64  8  9]\n"
     ]
    }
   ],
   "source": [
    "arr =np.arange(10)\n",
    "print(arr)\n",
    "arr_slice=arr[5:8]\n",
    "print(arr_slice)\n",
    "arr_slice[1]=12345\n",
    "print(arr)\n",
    "arr_slice[:]=64\n",
    "print(arr)"
   ]
  },
  {
   "cell_type": "code",
   "execution_count": 129,
   "id": "eac51247-4ed0-45e5-95b3-09f8f0636c9d",
   "metadata": {},
   "outputs": [
    {
     "name": "stdout",
     "output_type": "stream",
     "text": [
      "[7 8 9]\n",
      "3\n",
      "3\n"
     ]
    }
   ],
   "source": [
    "arr2d=np.array([[1,2,3],[4,5,6],[7,8,9]])\n",
    "print(arr2d[2])\n",
    "print(arr2d[0][2])\n",
    "print(arr2d[0,2])"
   ]
  },
  {
   "cell_type": "code",
   "execution_count": 29,
   "id": "922e407d-ecd8-439c-b44a-9601d8bcfa88",
   "metadata": {},
   "outputs": [],
   "source": [
    "import pandas as pd "
   ]
  },
  {
   "cell_type": "code",
   "execution_count": 30,
   "id": "b9d99398-6379-40ac-914f-bccf53b7e78a",
   "metadata": {},
   "outputs": [
    {
     "data": {
      "text/html": [
       "<div>\n",
       "<style scoped>\n",
       "    .dataframe tbody tr th:only-of-type {\n",
       "        vertical-align: middle;\n",
       "    }\n",
       "\n",
       "    .dataframe tbody tr th {\n",
       "        vertical-align: top;\n",
       "    }\n",
       "\n",
       "    .dataframe thead th {\n",
       "        text-align: right;\n",
       "    }\n",
       "</style>\n",
       "<table border=\"1\" class=\"dataframe\">\n",
       "  <thead>\n",
       "    <tr style=\"text-align: right;\">\n",
       "      <th></th>\n",
       "      <th>Date</th>\n",
       "      <th>Country</th>\n",
       "      <th>Confirmed</th>\n",
       "      <th>Deaths</th>\n",
       "      <th>Recovered</th>\n",
       "    </tr>\n",
       "  </thead>\n",
       "  <tbody>\n",
       "    <tr>\n",
       "      <th>0</th>\n",
       "      <td>2020-01-01</td>\n",
       "      <td>USA</td>\n",
       "      <td>9391</td>\n",
       "      <td>148</td>\n",
       "      <td>4101</td>\n",
       "    </tr>\n",
       "    <tr>\n",
       "      <th>1</th>\n",
       "      <td>2020-01-02</td>\n",
       "      <td>USA</td>\n",
       "      <td>9463</td>\n",
       "      <td>135</td>\n",
       "      <td>4136</td>\n",
       "    </tr>\n",
       "    <tr>\n",
       "      <th>2</th>\n",
       "      <td>2020-01-03</td>\n",
       "      <td>USA</td>\n",
       "      <td>9060</td>\n",
       "      <td>115</td>\n",
       "      <td>3682</td>\n",
       "    </tr>\n",
       "    <tr>\n",
       "      <th>3</th>\n",
       "      <td>2020-01-04</td>\n",
       "      <td>USA</td>\n",
       "      <td>8673</td>\n",
       "      <td>99</td>\n",
       "      <td>3886</td>\n",
       "    </tr>\n",
       "    <tr>\n",
       "      <th>4</th>\n",
       "      <td>2020-01-05</td>\n",
       "      <td>USA</td>\n",
       "      <td>9807</td>\n",
       "      <td>93</td>\n",
       "      <td>3490</td>\n",
       "    </tr>\n",
       "  </tbody>\n",
       "</table>\n",
       "</div>"
      ],
      "text/plain": [
       "         Date Country  Confirmed  Deaths  Recovered\n",
       "0  2020-01-01     USA       9391     148       4101\n",
       "1  2020-01-02     USA       9463     135       4136\n",
       "2  2020-01-03     USA       9060     115       3682\n",
       "3  2020-01-04     USA       8673      99       3886\n",
       "4  2020-01-05     USA       9807      93       3490"
      ]
     },
     "execution_count": 30,
     "metadata": {},
     "output_type": "execute_result"
    }
   ],
   "source": [
    "my_df=pd.read_csv(\"covid19_data.csv\")\n",
    "my_df.head()"
   ]
  },
  {
   "cell_type": "code",
   "execution_count": 31,
   "id": "fab7204c-3921-410c-ada0-a6d96e71d33a",
   "metadata": {},
   "outputs": [
    {
     "data": {
      "image/png": "[encoded data removed]",
      "text/plain": [
       "<Figure size 640x480 with 1 Axes>"
      ]
     },
     "metadata": {},
     "output_type": "display_data"
    }
   ],
   "source": [
    "\n",
    "import matplotlib.pyplot as plt\n",
    "\n",
    "Recovered_values = [4101,4136,3682,3886,3490]\n",
    "Deaths_values = [148,135,115,99,93]\n",
    "\n",
    "plt.plot(Recovered_values, Deaths_values)\n",
    "plt.show()\n"
   ]
  },
  {
   "cell_type": "code",
   "execution_count": 4,
   "id": "56330da2-5367-4ec8-a73d-6ab6a8fc1f22",
   "metadata": {},
   "outputs": [],
   "source": [
    "import matplotlib.pyplot as plt"
   ]
  },
  {
   "cell_type": "code",
   "execution_count": 32,
   "id": "a5348fa9-5797-45b9-98ab-8bed67e199e4",
   "metadata": {},
   "outputs": [
    {
     "data": {
      "text/plain": [
       "<function matplotlib.pyplot.show(close=None, block=None)>"
      ]
     },
     "execution_count": 32,
     "metadata": {},
     "output_type": "execute_result"
    },
    {
     "data": {
      "image/png": "[encoded data removed]",
      "text/plain": [
       "<Figure size 640x480 with 1 Axes>"
      ]
     },
     "metadata": {},
     "output_type": "display_data"
    }
   ],
   "source": [
    "plt.plot([9391,9463,9060,8673,9807])\n",
    "plt.ylabel(\"Confirmed case\")\n",
    "plt.show"
   ]
  },
  {
   "cell_type": "code",
   "execution_count": 6,
   "id": "f916895d-3f52-4808-8cb4-7cd5ab5c0e4a",
   "metadata": {},
   "outputs": [],
   "source": [
    "import matplotlib.pyplot as plt"
   ]
  },
  {
   "cell_type": "code",
   "execution_count": 36,
   "id": "7d559a80-d8e9-47c4-bf16-6680ebae2a87",
   "metadata": {},
   "outputs": [
    {
     "data": {
      "image/png": "[encoded data removed]",
      "text/plain": [
       "<Figure size 640x480 with 1 Axes>"
      ]
     },
     "metadata": {},
     "output_type": "display_data"
    }
   ],
   "source": [
    "y1=[]\n",
    "y2=[]\n",
    "x=range(-100,700)\n",
    "for i in x:y1.append(i**2)\n",
    "for i in x:y2.append(-i**2)\n",
    "\n",
    "plt.plot(x,y1)\n",
    "plt.plot(x,y2)\n",
    "plt.xlabel(\"Deaths\")\n",
    "plt.ylabel(\"Recovered\")\n",
    "plt.ylim(-200,20000)\n",
    "plt.axhline(0)\n",
    "plt.axvline(0)\n",
    "\n",
    "plt.savefig(\"quad.png\")\n",
    "plt.show()"
   ]
  },
  {
   "cell_type": "code",
   "execution_count": 14,
   "id": "ceebef6c-2f64-4999-b8e2-057ffe7dfbbe",
   "metadata": {},
   "outputs": [],
   "source": [
    "import matplotlib.pyplot as plt "
   ]
  },
  {
   "cell_type": "code",
   "execution_count": 30,
   "id": "0ebdc24e-ca2a-4cc3-86da-16eee8d5cae2",
   "metadata": {},
   "outputs": [
    {
     "data": {
      "text/plain": [
       "[<matplotlib.lines.Line2D at 0x16985298c50>]"
      ]
     },
     "execution_count": 30,
     "metadata": {},
     "output_type": "execute_result"
    },
    {
     "data": {
      "image/png": "[encoded data removed]",
      "text/plain": [
       "<Figure size 640x480 with 1 Axes>"
      ]
     },
     "metadata": {},
     "output_type": "display_data"
    }
   ],
   "source": [
    "Deaths=[148,135,115,99,93]\n",
    "Recovered=[4101,4136,3682,3886,3490]\n",
    "\n",
    "plt.plot(x,y)"
   ]
  },
  {
   "cell_type": "code",
   "execution_count": 26,
   "id": "3f9cc435-bd66-44c1-8c8c-abad341ee166",
   "metadata": {},
   "outputs": [],
   "source": [
    "import matplotlib.pyplot as plt"
   ]
  },
  {
   "cell_type": "code",
   "execution_count": 29,
   "id": "aa54c71b-aa96-4f17-b57d-b9c33a54e46a",
   "metadata": {},
   "outputs": [
    {
     "data": {
      "image/png": "[encoded data removed]",
      "text/plain": [
       "<Figure size 640x480 with 1 Axes>"
      ]
     },
     "metadata": {},
     "output_type": "display_data"
    }
   ],
   "source": [
    "x=[148,135,115,99,93]\n",
    "y=[4101,4136,3682,3886,3490]\n",
    "\n",
    "plt.plot(x,y)\n",
    "\n",
    "plt.xlabel('Deaths')\n",
    "plt.ylabel('Recovered')\n",
    "\n",
    "\n",
    "plt.title('Covid_19')\n",
    "\n",
    "plt.show()"
   ]
  },
  {
   "cell_type": "code",
   "execution_count": 28,
   "id": "f9780102-3869-4089-8fa4-d6ce302e62ad",
   "metadata": {},
   "outputs": [],
   "source": [
    "import matplotlib.pyplot as plt"
   ]
  },
  {
   "cell_type": "code",
   "execution_count": 28,
   "id": "281124fa-6ea1-4272-ba97-b1aa00b84418",
   "metadata": {},
   "outputs": [
    {
     "data": {
      "image/png": "[encoded data removed]",
      "text/plain": [
       "<Figure size 640x480 with 1 Axes>"
      ]
     },
     "metadata": {},
     "output_type": "display_data"
    }
   ],
   "source": [
    "x1=[148,135,115,99,93]\n",
    "y2=[4101,4136,3682,3886,3490]\n",
    "\n",
    "\n",
    "plt.plot(x1,label=\"Deaths\")\n",
    "\n",
    "plt.plot(y2,label=\"Recovered\")\n",
    "\n",
    "\n",
    "plt.xlabel('Deaths')\n",
    "plt.ylabel('Recovered')\n",
    "\n",
    "plt.title(\"Covid_19_Report\")\n",
    "\n",
    "plt.legend()\n",
    "\n",
    "plt.show()\n"
   ]
  },
  {
   "cell_type": "code",
   "execution_count": 31,
   "id": "c529e16d-d71b-4fe8-9fe9-a5b245cae8c2",
   "metadata": {},
   "outputs": [],
   "source": [
    "import matplotlib.pyplot as plt"
   ]
  },
  {
   "cell_type": "code",
   "execution_count": 16,
   "id": "7632ce6f-d61b-4418-8fe8-be2e94a9cf69",
   "metadata": {},
   "outputs": [
    {
     "data": {
      "image/png": "[encoded data removed]",
      "text/plain": [
       "<Figure size 640x480 with 1 Axes>"
      ]
     },
     "metadata": {},
     "output_type": "display_data"
    }
   ],
   "source": [
    "x=[93,99,115,135,148]\n",
    "y=[3490,3682,3886,4101,4136]\n",
    "\n",
    "plt.plot(x,y, color='red',linestyle='dashed', linewidth=3,\n",
    "         marker='o', markerfacecolor='black',markersize=12)\n",
    "\n",
    "\n",
    "plt.ylim(100,20000)\n",
    "plt.xlim(10,700)\n",
    "\n",
    "\n",
    "plt.xlabel('Deaths')\n",
    "plt.ylabel('Recovered')\n",
    "\n",
    "plt.title(\"Covid_19_Report\")\n",
    "\n",
    "plt.show()"
   ]
  },
  {
   "cell_type": "code",
   "execution_count": 15,
   "id": "903b51b6-1a3a-461b-84b3-fd6e28813246",
   "metadata": {},
   "outputs": [
    {
     "data": {
      "image/png": "[encoded data removed]",
      "text/plain": [
       "<Figure size 640x480 with 1 Axes>"
      ]
     },
     "metadata": {},
     "output_type": "display_data"
    }
   ],
   "source": [
    "import matplotlib.pyplot as plt\n",
    "\n",
    "values=[46394,27099,19295]\n",
    "names=[\"Confirmed\",\"Deaths\",\"Recovered\"]\n",
    "\n",
    "plt.bar(names,values,color=['y','b','r'])\n",
    "\n",
    "plt.show()"
   ]
  },
  {
   "cell_type": "code",
   "execution_count": 14,
   "id": "e3eb1d69-8c35-48bb-8db4-5046520e0d60",
   "metadata": {},
   "outputs": [
    {
     "data": {
      "text/plain": [
       "<function matplotlib.pyplot.show(close=None, block=None)>"
      ]
     },
     "execution_count": 14,
     "metadata": {},
     "output_type": "execute_result"
    },
    {
     "data": {
      "image/png": "[encoded data removed]",
      "text/plain": [
       "<Figure size 640x480 with 1 Axes>"
      ]
     },
     "metadata": {},
     "output_type": "display_data"
    }
   ],
   "source": [
    "import matplotlib.pyplot as plt\n",
    "\n",
    "values=[46394,27099,19295]\n",
    "names=[\"Confirmed\",\"Deaths\",\"Recovered\"]\n",
    "\n",
    "\n",
    "plt.barh(names,values,color=[\"r\",\"y\",\"b\"])\n",
    "\n",
    "plt.show"
   ]
  },
  {
   "cell_type": "code",
   "execution_count": 22,
   "id": "35d464ca-6b9d-48aa-bbd5-cd20d644e8c1",
   "metadata": {},
   "outputs": [
    {
     "data": {
      "image/png": "[encoded data removed]",
      "text/plain": [
       "<Figure size 640x480 with 1 Axes>"
      ]
     },
     "metadata": {},
     "output_type": "display_data"
    }
   ],
   "source": [
    "import matplotlib.pyplot as plt\n",
    "\n",
    "\n",
    "height = [46394,27099,19295]\n",
    "names = ['Confirmed', 'Deaths', 'Recovered']\n",
    "\n",
    "left = range(len(height))\n",
    "\n",
    "colors = ['red', 'green', 'blue', 'orange', 'purple']\n",
    "\n",
    "plt.bar(left, height, width=0.8, color=colors)\n",
    "\n",
    "plt.xlabel('Deaths case')\n",
    "plt.ylabel('Confirmed case')\n",
    "plt.title(\"COVID-19 Report\")\n",
    "\n",
    "plt.xticks(left, names)\n",
    "\n",
    "plt.show()\n"
   ]
  },
  {
   "cell_type": "code",
   "execution_count": 37,
   "id": "53d71b29-3c04-4fc4-bd40-467500f3415c",
   "metadata": {},
   "outputs": [
    {
     "data": {
      "image/png": "[encoded data removed]",
      "text/plain": [
       "<Figure size 640x480 with 1 Axes>"
      ]
     },
     "metadata": {},
     "output_type": "display_data"
    }
   ],
   "source": [
    "import matplotlib.pyplot as plt\n",
    "x=[46394,27099,19295]\n",
    "\n",
    "plt.hist(x,bins=10,color='blue',alpha=0.5)\n",
    "plt.show()"
   ]
  },
  {
   "cell_type": "code",
   "execution_count": 24,
   "id": "e8219a39-6b46-4849-a7ff-55cc1ccd3728",
   "metadata": {},
   "outputs": [
    {
     "data": {
      "image/png": "[encoded data removed]",
      "text/plain": [
       "<Figure size 640x480 with 1 Axes>"
      ]
     },
     "metadata": {},
     "output_type": "display_data"
    }
   ],
   "source": [
    "import matplotlib.pyplot as plt\n",
    "\n",
    "Deaths_values=[148,135,115,99,93]\n",
    "Recovered_values=[4101,4136,3682,3886,3490]\n",
    "\n",
    "plt.scatter(Deaths_values,Recovered_values,s=30,color=\"blue\")\n",
    "plt.show()"
   ]
  },
  {
   "cell_type": "code",
   "execution_count": 25,
   "id": "28ad316f-3d88-4e0f-b42a-179797681f96",
   "metadata": {},
   "outputs": [
    {
     "data": {
      "image/png": "[encoded data removed]",
      "text/plain": [
       "<Figure size 640x480 with 1 Axes>"
      ]
     },
     "metadata": {},
     "output_type": "display_data"
    }
   ],
   "source": [
    "import matplotlib.pyplot as plt\n",
    "\n",
    "Deaths = [148,135,115,99,93]\n",
    "Recovered = [4101,4136,3682,3886,3490]\n",
    "\n",
    "\n",
    "plt.scatter(x, y, label=\"Stars\", color=\"green\", marker=\"*\", s=50)\n",
    "\n",
    "\n",
    "plt.xlabel('Deaths')\n",
    "plt.ylabel('Recovered')\n",
    "plt.title(\"COVID-19 Scatter Plot\")\n",
    "plt.legend()\n",
    "\n",
    "\n",
    "plt.show()\n",
    "\n",
    "\n",
    "           "
   ]
  },
  {
   "cell_type": "code",
   "execution_count": 26,
   "id": "db7f11b9-4d48-4bd7-a5cf-aa0426f8f5ec",
   "metadata": {},
   "outputs": [
    {
     "data": {
      "image/png": "[encoded data removed]",
      "text/plain": [
       "<Figure size 640x480 with 1 Axes>"
      ]
     },
     "metadata": {},
     "output_type": "display_data"
    }
   ],
   "source": [
    "import matplotlib.pyplot as plt\n",
    "\n",
    "activities = ['Confirmed', 'Deaths', 'Recovered']\n",
    "slices =[46394,27099,19295]\n",
    "colors = ['r', 'y', 'g']\n",
    "\n",
    "plt.pie(\n",
    "    slices,\n",
    "    labels=activities,\n",
    "    colors=colors,\n",
    "    startangle=90,\n",
    "    shadow=True,\n",
    "    explode=(0, 0, 0.1),\n",
    "    radius=1.2,\n",
    "    autopct='%1.1f%%'  \n",
    ")\n",
    "\n",
    "plt.legend()\n",
    "plt.show()\n",
    "\n"
   ]
  },
  {
   "cell_type": "code",
   "execution_count": null,
   "id": "77340da2-007e-4fd7-bc9c-6774217123f4",
   "metadata": {},
   "outputs": [],
   "source": []
  },
  {
   "cell_type": "code",
   "execution_count": 22,
   "id": "1702bfee-bafa-49c8-b27d-a35f391d2aac",
   "metadata": {},
   "outputs": [
    {
     "data": {
      "image/png": "[encoded data removed]",
      "text/plain": [
       "<Figure size 640x480 with 1 Axes>"
      ]
     },
     "metadata": {},
     "output_type": "display_data"
    }
   ],
   "source": [
    "import matplotlib.pyplot as plt\n",
    "import numpy as np\n",
    "x=np.arange(0,2*np.pi,0.1)\n",
    "y=np.sin(x)\n",
    "plt.plot(x,y)\n",
    "plt.show()"
   ]
  },
  {
   "cell_type": "code",
   "execution_count": null,
   "id": "9849f601-2dc9-4a30-82a0-d0eb96c6497f",
   "metadata": {},
   "outputs": [],
   "source": []
  }
 ],
 "metadata": {
  "kernelspec": {
   "display_name": "Python 3 (ipykernel)",
   "language": "python",
   "name": "python3"
  },
  "language_info": {
   "codemirror_mode": {
    "name": "ipython",
    "version": 3
   },
   "file_extension": ".py",
   "mimetype": "text/x-python",
   "name": "python",
   "nbconvert_exporter": "python",
   "pygments_lexer": "ipython3",
   "version": "3.12.7"
  }
 },
 "nbformat": 4,
 "nbformat_minor": 5
}
